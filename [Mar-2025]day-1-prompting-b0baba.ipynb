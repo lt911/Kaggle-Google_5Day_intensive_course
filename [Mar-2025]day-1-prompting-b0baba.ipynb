{
 "cells": [
  {
   "cell_type": "markdown",
   "id": "a4d524e5",
   "metadata": {
    "id": "jkxRSYjzA1oX",
    "papermill": {
     "duration": 0.014089,
     "end_time": "2025-04-01T17:57:05.050917",
     "exception": false,
     "start_time": "2025-04-01T17:57:05.036828",
     "status": "completed"
    },
    "tags": []
   },
   "source": [
    "##### Copyright 2025 Google LLC."
   ]
  },
  {
   "cell_type": "code",
   "execution_count": 1,
   "id": "3040d97f",
   "metadata": {
    "cellView": "form",
    "execution": {
     "iopub.execute_input": "2025-04-01T17:57:05.081507Z",
     "iopub.status.busy": "2025-04-01T17:57:05.081106Z",
     "iopub.status.idle": "2025-04-01T17:57:05.087714Z",
     "shell.execute_reply": "2025-04-01T17:57:05.086422Z"
    },
    "id": "5u5OZ2ShA3BA",
    "jupyter": {
     "source_hidden": true
    },
    "papermill": {
     "duration": 0.024989,
     "end_time": "2025-04-01T17:57:05.090512",
     "exception": false,
     "start_time": "2025-04-01T17:57:05.065523",
     "status": "completed"
    },
    "tags": []
   },
   "outputs": [],
   "source": [
    "# @title Licensed under the Apache License, Version 2.0 (the \"License\");\n",
    "# you may not use this file except in compliance with the License.\n",
    "# You may obtain a copy of the License at\n",
    "#\n",
    "# https://www.apache.org/licenses/LICENSE-2.0\n",
    "#\n",
    "# Unless required by applicable law or agreed to in writing, software\n",
    "# distributed under the License is distributed on an \"AS IS\" BASIS,\n",
    "# WITHOUT WARRANTIES OR CONDITIONS OF ANY KIND, either express or implied.\n",
    "# See the License for the specific language governing permissions and\n",
    "# limitations under the License."
   ]
  },
  {
   "cell_type": "markdown",
   "id": "49850632",
   "metadata": {
    "id": "csNPnkuCobmG",
    "papermill": {
     "duration": 0.012166,
     "end_time": "2025-04-01T17:57:05.115645",
     "exception": false,
     "start_time": "2025-04-01T17:57:05.103479",
     "status": "completed"
    },
    "tags": []
   },
   "source": [
    "# Day 1 - Prompting\n",
    "\n",
    "Welcome to the Kaggle 5-day Generative AI course!\n",
    "\n",
    "This notebook will show you how to get started with the Gemini API and walk you through some of the example prompts and techniques that you can also read about in the Prompting whitepaper. You don't need to read the whitepaper to use this notebook, but the papers will give you some theoretical context and background to complement this interactive notebook.\n",
    "\n",
    "\n",
    "## Before you begin\n",
    "\n",
    "In this notebook, you'll start exploring prompting using the Python SDK and AI Studio. For some inspiration, you might enjoy exploring some apps that have been built using the Gemini family of models. Here are a few that we like, and we think you will too.\n",
    "\n",
    "* [TextFX](https://textfx.withgoogle.com/) is a suite of AI-powered tools for rappers, made in collaboration with Lupe Fiasco,\n",
    "* [SQL Talk](https://sql-talk-r5gdynozbq-uc.a.run.app/) shows how you can talk directly to a database using the Gemini API,\n",
    "* [NotebookLM](https://notebooklm.google/) uses Gemini models to build your own personal AI research assistant.\n",
    "\n",
    "\n",
    "## For help\n",
    "\n",
    "**Common issues are covered in the [FAQ and troubleshooting guide](https://www.kaggle.com/code/markishere/day-0-troubleshooting-and-faqs).**\n",
    "\n",
    "## New for Gemini 2.0!\n",
    "\n",
    "This course material was first launched in November 2024. The AI and LLM space is moving incredibly fast, so we have made some updates to use the latest models and capabilities.\n",
    "\n",
    "* These codelabs have been updated to use the Gemini 2.0 family of models.\n",
    "* The Python SDK has been updated from `google-generativeai` to the new, unified [`google-genai`](https://pypi.org/project/google-genai) SDK.\n",
    "  * This new SDK works with both the developer Gemini API as well as Google Cloud Vertex AI, and switching is [as simple as changing some fields](https://pypi.org/project/google-genai/#:~:text=.Client%28%29-,API%20Selection,-By%20default%2C%20the).\n",
    "* New model capabilities have been added to the relevant codelabs, such as \"thinking mode\" in this lab.\n",
    "* Day 1 includes a new [Evaluation codelab](https://www.kaggle.com/code/markishere/day-1-evaluation-and-structured-output)."
   ]
  },
  {
   "attachments": {
    "d8299597-f771-4195-ac94-1d6f658ef2bd.png": {
     "image/png": "[encoded data removed]"
    },
    "ed25e346-2e15-4ab0-bc22-503eb1845e66.png": {
     "image/png": "[encoded data removed]"
    }
   },
   "cell_type": "markdown",
   "id": "f5a6a2d5",
   "metadata": {
    "id": "f00ea7c99e44",
    "papermill": {
     "duration": 0.012051,
     "end_time": "2025-04-01T17:57:05.140102",
     "exception": false,
     "start_time": "2025-04-01T17:57:05.128051",
     "status": "completed"
    },
    "tags": []
   },
   "source": [
    "## Get started with Kaggle notebooks\n",
    "\n",
    "If this is your first time using a Kaggle notebook, welcome! You can read about how to use Kaggle notebooks [in the docs](https://www.kaggle.com/docs/notebooks).\n",
    "\n",
    "First, you will need to phone verify your account at kaggle.com/settings.\n",
    "\n",
    "![](https://storage.googleapis.com/kaggle-media/Images/5dgai_0.png)"
   ]
  },
  {
   "cell_type": "markdown",
   "id": "13b58aa8",
   "metadata": {
    "papermill": {
     "duration": 0.013218,
     "end_time": "2025-04-01T17:57:05.166562",
     "exception": false,
     "start_time": "2025-04-01T17:57:05.153344",
     "status": "completed"
    },
    "tags": []
   },
   "source": [
    "To run this notebook, as well as the others in this course, you will need to make a copy, or fork, the notebook. Look for the `Copy and Edit` button in the top-right, and **click it** to make an editable, private copy of the notebook. It should look like this one:\n",
    "\n",
    "![Copy and Edit button](https://storage.googleapis.com/kaggle-media/Images/5gdai_sc_1.png)\n",
    "\n",
    "Your copy will now have a ▶️ **Run** button next to each code cell that you can press to execute that cell. These notebooks are expected to be run in order from top-to-bottom, but you are encouraged to add new cells, run your own code and explore. If you get stuck, you can try the `Factory reset` option in the `Run` menu, or head back to the original notebook and make a fresh copy.\n",
    "\n",
    "![Run cell button](https://storage.googleapis.com/kaggle-media/Images/5gdai_sc_2.png)\n",
    "\n",
    "### Problems?\n",
    "\n",
    "If you have any problems, head over to the [Kaggle Discord](https://discord.com/invite/kaggle), find the [`#5dgai-q-and-a` channel](https://discord.com/channels/1101210829807956100/1303438695143178251) and ask for help."
   ]
  },
  {
   "cell_type": "markdown",
   "id": "8e49023d",
   "metadata": {
    "id": "ExkOXcPxtTb5",
    "papermill": {
     "duration": 0.012481,
     "end_time": "2025-04-01T17:57:05.191741",
     "exception": false,
     "start_time": "2025-04-01T17:57:05.179260",
     "status": "completed"
    },
    "tags": []
   },
   "source": [
    "## Get started with the Gemini API\n",
    "\n",
    "All of the exercises in this notebook will use the [Gemini API](https://ai.google.dev/gemini-api/) by way of the [Python SDK](https://pypi.org/project/google-genai/). Each of these prompts can be accessed directly in [Google AI Studio](https://aistudio.google.com/) too, so if you would rather use a web interface and skip the code for this activity, look for the <img src=\"https://ai.google.dev/site-assets/images/marketing/home/icon-ais.png\" style=\"height: 24px\" height=24/> AI Studio link on each prompt."
   ]
  },
  {
   "cell_type": "markdown",
   "id": "3b8d05eb",
   "metadata": {
    "papermill": {
     "duration": 0.012382,
     "end_time": "2025-04-01T17:57:05.216741",
     "exception": false,
     "start_time": "2025-04-01T17:57:05.204359",
     "status": "completed"
    },
    "tags": []
   },
   "source": [
    "Next, you will need to add your API key to your Kaggle Notebook as a Kaggle User Secret.\n",
    "\n",
    "![](https://storage.googleapis.com/kaggle-media/Images/5dgai_1.png)\n",
    "![](https://storage.googleapis.com/kaggle-media/Images/5dgai_2.png)\n",
    "![](https://storage.googleapis.com/kaggle-media/Images/5dgai_3.png)\n",
    "![](https://storage.googleapis.com/kaggle-media/Images/5dgai_4.png)"
   ]
  },
  {
   "cell_type": "markdown",
   "id": "347d1ead",
   "metadata": {
    "id": "UAjUV3BsvFXQ",
    "papermill": {
     "duration": 0.012381,
     "end_time": "2025-04-01T17:57:05.241774",
     "exception": false,
     "start_time": "2025-04-01T17:57:05.229393",
     "status": "completed"
    },
    "tags": []
   },
   "source": [
    "### Install the SDK"
   ]
  },
  {
   "cell_type": "code",
   "execution_count": 2,
   "id": "a9c1288f",
   "metadata": {
    "execution": {
     "iopub.execute_input": "2025-04-01T17:57:05.268890Z",
     "iopub.status.busy": "2025-04-01T17:57:05.268493Z",
     "iopub.status.idle": "2025-04-01T17:57:25.780590Z",
     "shell.execute_reply": "2025-04-01T17:57:25.778982Z"
    },
    "id": "NzwzJFU9LqkJ",
    "papermill": {
     "duration": 20.528881,
     "end_time": "2025-04-01T17:57:25.783289",
     "exception": false,
     "start_time": "2025-04-01T17:57:05.254408",
     "status": "completed"
    },
    "tags": []
   },
   "outputs": [],
   "source": [
    "!pip uninstall -qqy jupyterlab  # Remove unused packages from Kaggle's base image that conflict\n",
    "!pip install -U -q \"google-genai==1.7.0\""
   ]
  },
  {
   "cell_type": "markdown",
   "id": "7adec030",
   "metadata": {
    "papermill": {
     "duration": 0.012708,
     "end_time": "2025-04-01T17:57:25.808470",
     "exception": false,
     "start_time": "2025-04-01T17:57:25.795762",
     "status": "completed"
    },
    "tags": []
   },
   "source": [
    "Import the SDK and some helpers for rendering the output."
   ]
  },
  {
   "cell_type": "code",
   "execution_count": 3,
   "id": "8773265d",
   "metadata": {
    "execution": {
     "iopub.execute_input": "2025-04-01T17:57:25.835695Z",
     "iopub.status.busy": "2025-04-01T17:57:25.835253Z",
     "iopub.status.idle": "2025-04-01T17:57:27.253627Z",
     "shell.execute_reply": "2025-04-01T17:57:27.252416Z"
    },
    "id": "5DwxYIRavMST",
    "papermill": {
     "duration": 1.435198,
     "end_time": "2025-04-01T17:57:27.256307",
     "exception": false,
     "start_time": "2025-04-01T17:57:25.821109",
     "status": "completed"
    },
    "tags": []
   },
   "outputs": [],
   "source": [
    "from google import genai\n",
    "from google.genai import types\n",
    "\n",
    "from IPython.display import HTML, Markdown, display"
   ]
  },
  {
   "cell_type": "markdown",
   "id": "86c0809c",
   "metadata": {
    "papermill": {
     "duration": 0.012032,
     "end_time": "2025-04-01T17:57:27.280875",
     "exception": false,
     "start_time": "2025-04-01T17:57:27.268843",
     "status": "completed"
    },
    "tags": []
   },
   "source": [
    "Set up a retry helper. This allows you to \"Run all\" without worrying about per-minute quota."
   ]
  },
  {
   "cell_type": "code",
   "execution_count": 4,
   "id": "a47a0e83",
   "metadata": {
    "execution": {
     "iopub.execute_input": "2025-04-01T17:57:27.307237Z",
     "iopub.status.busy": "2025-04-01T17:57:27.306748Z",
     "iopub.status.idle": "2025-04-01T17:57:27.525072Z",
     "shell.execute_reply": "2025-04-01T17:57:27.524068Z"
    },
    "papermill": {
     "duration": 0.234501,
     "end_time": "2025-04-01T17:57:27.527647",
     "exception": false,
     "start_time": "2025-04-01T17:57:27.293146",
     "status": "completed"
    },
    "tags": []
   },
   "outputs": [],
   "source": [
    "from google.api_core import retry\n",
    "\n",
    "\n",
    "is_retriable = lambda e: (isinstance(e, genai.errors.APIError) and e.code in {429, 503})\n",
    "\n",
    "genai.models.Models.generate_content = retry.Retry(\n",
    "    predicate=is_retriable)(genai.models.Models.generate_content)"
   ]
  },
  {
   "cell_type": "markdown",
   "id": "041b8d4a",
   "metadata": {
    "id": "DNEt2BCOvOJ1",
    "papermill": {
     "duration": 0.011953,
     "end_time": "2025-04-01T17:57:27.552009",
     "exception": false,
     "start_time": "2025-04-01T17:57:27.540056",
     "status": "completed"
    },
    "tags": []
   },
   "source": [
    "### Set up your API key\n",
    "\n",
    "To run the following cell, your API key must be stored it in a [Kaggle secret](https://www.kaggle.com/discussions/product-feedback/114053) named `GOOGLE_API_KEY`.\n",
    "\n",
    "If you don't already have an API key, you can grab one from [AI Studio](https://aistudio.google.com/app/apikey). You can find [detailed instructions in the docs](https://ai.google.dev/gemini-api/docs/api-key).\n",
    "\n",
    "To make the key available through Kaggle secrets, choose `Secrets` from the `Add-ons` menu and follow the instructions to add your key or enable it for this notebook."
   ]
  },
  {
   "cell_type": "code",
   "execution_count": 5,
   "id": "22e830c0",
   "metadata": {
    "execution": {
     "iopub.execute_input": "2025-04-01T17:57:27.579002Z",
     "iopub.status.busy": "2025-04-01T17:57:27.578463Z",
     "iopub.status.idle": "2025-04-01T17:57:27.661655Z",
     "shell.execute_reply": "2025-04-01T17:57:27.660549Z"
    },
    "id": "SHl0bkPCvayd",
    "papermill": {
     "duration": 0.099763,
     "end_time": "2025-04-01T17:57:27.664071",
     "exception": false,
     "start_time": "2025-04-01T17:57:27.564308",
     "status": "completed"
    },
    "tags": []
   },
   "outputs": [],
   "source": [
    "from kaggle_secrets import UserSecretsClient\n",
    "\n",
    "GOOGLE_API_KEY = UserSecretsClient().get_secret(\"GOOGLE_API_KEY\")"
   ]
  },
  {
   "attachments": {
    "d2be9aab-2527-48af-b6cf-1f06cdd7c3a7.png": {
     "image/png": "[encoded data removed]"
    }
   },
   "cell_type": "markdown",
   "id": "a7a5bf19",
   "metadata": {
    "id": "4e720472fd86",
    "papermill": {
     "duration": 0.012822,
     "end_time": "2025-04-01T17:57:27.689576",
     "exception": false,
     "start_time": "2025-04-01T17:57:27.676754",
     "status": "completed"
    },
    "tags": []
   },
   "source": [
    "If you received an error response along the lines of `No user secrets exist for kernel id ...`, then you need to add your API key via `Add-ons`, `Secrets` **and** enable it.\n",
    "\n",
    "![Screenshot of the checkbox to enable GOOGLE_API_KEY secret](https://storage.googleapis.com/kaggle-media/Images/5gdai_sc_3.png)"
   ]
  },
  {
   "cell_type": "markdown",
   "id": "9b6c0b96",
   "metadata": {
    "id": "H_YXCYIKvyZJ",
    "papermill": {
     "duration": 0.012224,
     "end_time": "2025-04-01T17:57:27.715225",
     "exception": false,
     "start_time": "2025-04-01T17:57:27.703001",
     "status": "completed"
    },
    "tags": []
   },
   "source": [
    "### Run your first prompt\n",
    "\n",
    "In this step, you will test that your API key is set up correctly by making a request.\n",
    "\n",
    "The Python SDK uses a [`Client` object](https://googleapis.github.io/python-genai/genai.html#genai.client.Client) to make requests to the API. The client lets you control which back-end to use (between the Gemini API and Vertex AI) and handles authentication (the API key).\n",
    "\n",
    "The `gemini-2.0-flash` model has been selected here.\n",
    "\n",
    "**Note**: If you see a `TransportError` on this step, you may need to **🔁 Factory reset** the notebook one time."
   ]
  },
  {
   "cell_type": "code",
   "execution_count": 6,
   "id": "964f39c7",
   "metadata": {
    "execution": {
     "iopub.execute_input": "2025-04-01T17:57:27.742844Z",
     "iopub.status.busy": "2025-04-01T17:57:27.742453Z",
     "iopub.status.idle": "2025-04-01T17:57:31.002501Z",
     "shell.execute_reply": "2025-04-01T17:57:30.999589Z"
    },
    "id": "BV1o0PmcvyJF",
    "papermill": {
     "duration": 3.278605,
     "end_time": "2025-04-01T17:57:31.006405",
     "exception": false,
     "start_time": "2025-04-01T17:57:27.727800",
     "status": "completed"
    },
    "tags": []
   },
   "outputs": [
    {
     "name": "stdout",
     "output_type": "stream",
     "text": [
      "Okay, imagine you have a really, REALLY smart robot toy. This robot toy can learn new things, kind of like you do at school!\n",
      "\n",
      "That's basically what AI is! It's a way to make computers or robots act a little bit like they're thinking.\n",
      "\n",
      "**Here's how it works in simple steps:**\n",
      "\n",
      "1. **We give the computer lots and lots of information:** Imagine showing your robot toy hundreds of pictures of cats.\n",
      "2. **The computer looks for patterns:** The robot toy tries to figure out what makes a cat a cat. It might notice they have pointy ears, whiskers, and a fluffy tail.\n",
      "3. **The computer learns:**  The robot toy remembers all the patterns.\n",
      "4. **The computer can make predictions or decisions:**  Now, when you show the robot toy a new picture, it can say \"Hey! That looks like a cat!\" even if it's a cat it's never seen before!\n",
      "\n",
      "**Think of it like this:**\n",
      "\n",
      "* **Learning to ride a bike:**  You might fall down a lot at first, but you learn from your mistakes.  You learn that you need to balance, pedal, and steer. AI is similar – it learns from lots of data (like your bike-riding attempts) and gets better and better over time.\n",
      "\n",
      "**Where do you see AI?**\n",
      "\n",
      "* **Your phone:**  When your phone can understand your voice and write down what you say, that's AI helping.\n",
      "* **Video games:** Sometimes, the computer players in a game seem really smart. That's because they're using AI to make decisions.\n",
      "* **Streaming services:** When a streaming service suggests movies you might like, it's using AI to guess what you'd enjoy based on what you've watched before.\n",
      "\n",
      "**Is AI a real person?**\n",
      "\n",
      "Nope! It's just a program or a set of instructions that someone wrote to make a computer or robot smart.\n",
      "\n",
      "**So, AI is like giving computers the ability to learn and make decisions, just like you do, but in a different way!**\n",
      "\n"
     ]
    }
   ],
   "source": [
    "client = genai.Client(api_key=GOOGLE_API_KEY)\n",
    "\n",
    "response = client.models.generate_content(\n",
    "    model=\"gemini-2.0-flash\",\n",
    "    contents=\"Explain AI to me like I'm a kid.\")\n",
    "\n",
    "print(response.text)"
   ]
  },
  {
   "cell_type": "markdown",
   "id": "e833f564",
   "metadata": {
    "id": "f60ed9d8ae41",
    "papermill": {
     "duration": 0.014847,
     "end_time": "2025-04-01T17:57:31.036250",
     "exception": false,
     "start_time": "2025-04-01T17:57:31.021403",
     "status": "completed"
    },
    "tags": []
   },
   "source": [
    "The response often comes back in markdown format, which you can render directly in this notebook."
   ]
  },
  {
   "cell_type": "code",
   "execution_count": 7,
   "id": "ae602c7e",
   "metadata": {
    "execution": {
     "iopub.execute_input": "2025-04-01T17:57:31.065983Z",
     "iopub.status.busy": "2025-04-01T17:57:31.065566Z",
     "iopub.status.idle": "2025-04-01T17:57:31.075242Z",
     "shell.execute_reply": "2025-04-01T17:57:31.073840Z"
    },
    "id": "c933e5e460a5",
    "papermill": {
     "duration": 0.027611,
     "end_time": "2025-04-01T17:57:31.077808",
     "exception": false,
     "start_time": "2025-04-01T17:57:31.050197",
     "status": "completed"
    },
    "tags": []
   },
   "outputs": [
    {
     "data": {
      "text/markdown": [
       "Okay, imagine you have a really, REALLY smart robot toy. This robot toy can learn new things, kind of like you do at school!\n",
       "\n",
       "That's basically what AI is! It's a way to make computers or robots act a little bit like they're thinking.\n",
       "\n",
       "**Here's how it works in simple steps:**\n",
       "\n",
       "1. **We give the computer lots and lots of information:** Imagine showing your robot toy hundreds of pictures of cats.\n",
       "2. **The computer looks for patterns:** The robot toy tries to figure out what makes a cat a cat. It might notice they have pointy ears, whiskers, and a fluffy tail.\n",
       "3. **The computer learns:**  The robot toy remembers all the patterns.\n",
       "4. **The computer can make predictions or decisions:**  Now, when you show the robot toy a new picture, it can say \"Hey! That looks like a cat!\" even if it's a cat it's never seen before!\n",
       "\n",
       "**Think of it like this:**\n",
       "\n",
       "* **Learning to ride a bike:**  You might fall down a lot at first, but you learn from your mistakes.  You learn that you need to balance, pedal, and steer. AI is similar – it learns from lots of data (like your bike-riding attempts) and gets better and better over time.\n",
       "\n",
       "**Where do you see AI?**\n",
       "\n",
       "* **Your phone:**  When your phone can understand your voice and write down what you say, that's AI helping.\n",
       "* **Video games:** Sometimes, the computer players in a game seem really smart. That's because they're using AI to make decisions.\n",
       "* **Streaming services:** When a streaming service suggests movies you might like, it's using AI to guess what you'd enjoy based on what you've watched before.\n",
       "\n",
       "**Is AI a real person?**\n",
       "\n",
       "Nope! It's just a program or a set of instructions that someone wrote to make a computer or robot smart.\n",
       "\n",
       "**So, AI is like giving computers the ability to learn and make decisions, just like you do, but in a different way!**\n"
      ],
      "text/plain": [
       "<IPython.core.display.Markdown object>"
      ]
     },
     "execution_count": 7,
     "metadata": {},
     "output_type": "execute_result"
    }
   ],
   "source": [
    "Markdown(response.text)"
   ]
  },
  {
   "cell_type": "markdown",
   "id": "d3630bc6",
   "metadata": {
    "id": "byx0pT9ZMW2Q",
    "papermill": {
     "duration": 0.012661,
     "end_time": "2025-04-01T17:57:31.104642",
     "exception": false,
     "start_time": "2025-04-01T17:57:31.091981",
     "status": "completed"
    },
    "tags": []
   },
   "source": [
    "### Start a chat\n",
    "\n",
    "The previous example uses a single-turn, text-in/text-out structure, but you can also set up a multi-turn chat structure too."
   ]
  },
  {
   "cell_type": "code",
   "execution_count": 8,
   "id": "e4ad8544",
   "metadata": {
    "execution": {
     "iopub.execute_input": "2025-04-01T17:57:31.132494Z",
     "iopub.status.busy": "2025-04-01T17:57:31.132104Z",
     "iopub.status.idle": "2025-04-01T17:57:31.554141Z",
     "shell.execute_reply": "2025-04-01T17:57:31.552911Z"
    },
    "id": "lV_S5ZL5MidD",
    "papermill": {
     "duration": 0.438708,
     "end_time": "2025-04-01T17:57:31.556639",
     "exception": false,
     "start_time": "2025-04-01T17:57:31.117931",
     "status": "completed"
    },
    "tags": []
   },
   "outputs": [
    {
     "name": "stdout",
     "output_type": "stream",
     "text": [
      "Greetings, Zlork! It's a pleasure to meet you. How can I help you today?\n",
      "\n"
     ]
    }
   ],
   "source": [
    "chat = client.chats.create(model='gemini-2.0-flash', history=[])\n",
    "response = chat.send_message('Hello! My name is Zlork.')\n",
    "print(response.text)"
   ]
  },
  {
   "cell_type": "code",
   "execution_count": 9,
   "id": "ff8c6ad1",
   "metadata": {
    "execution": {
     "iopub.execute_input": "2025-04-01T17:57:31.586504Z",
     "iopub.status.busy": "2025-04-01T17:57:31.586104Z",
     "iopub.status.idle": "2025-04-01T17:57:33.413838Z",
     "shell.execute_reply": "2025-04-01T17:57:33.412488Z"
    },
    "id": "7b0372c3c64a",
    "papermill": {
     "duration": 1.844951,
     "end_time": "2025-04-01T17:57:33.416261",
     "exception": false,
     "start_time": "2025-04-01T17:57:31.571310",
     "status": "completed"
    },
    "tags": []
   },
   "outputs": [
    {
     "name": "stdout",
     "output_type": "stream",
     "text": [
      "Okay, here's something interesting about dinosaurs:\n",
      "\n",
      "We often think of dinosaurs as cold-blooded reptiles, basking in the sun. However, some evidence suggests that many dinosaurs, particularly smaller, feathered ones, may have been **endothermic (warm-blooded) or mesothermic (somewhere in between).**\n",
      "\n",
      "This is a fascinating area of ongoing research, but here's why it's interesting:\n",
      "\n",
      "*   **Growth Rates:** Bone analysis shows some dinosaurs grew very quickly, similar to mammals and birds, which are warm-blooded. Rapid growth requires a high metabolic rate.\n",
      "*   **Feathers:** Feathers, thought to have evolved for insulation and display, also suggest the need for a higher body temperature regulation.\n",
      "*   **Isotope Analysis:** Studying the ratio of different isotopes in dinosaur teeth reveals body temperatures potentially higher than expected for reptiles.\n",
      "\n",
      "So, while we can't definitively say *all* dinosaurs were warm-blooded, the evidence is mounting that at least some were, and this significantly changes our understanding of their behavior, metabolism, and overall ecology. It also blurs the traditional line between \"reptile\" and \"bird/mammal\" when considering these ancient creatures.\n",
      "\n",
      "Is there anything else you'd like to know about dinosaurs?\n",
      "\n"
     ]
    }
   ],
   "source": [
    "response = chat.send_message('Can you tell me something interesting about dinosaurs?')\n",
    "print(response.text)"
   ]
  },
  {
   "cell_type": "markdown",
   "id": "baca5d65",
   "metadata": {
    "papermill": {
     "duration": 0.013055,
     "end_time": "2025-04-01T17:57:33.442442",
     "exception": false,
     "start_time": "2025-04-01T17:57:33.429387",
     "status": "completed"
    },
    "tags": []
   },
   "source": [
    "While you have the `chat` object alive, the conversation state\n",
    "persists. Confirm that by asking if it knows the user's name."
   ]
  },
  {
   "cell_type": "code",
   "execution_count": 10,
   "id": "92d26064",
   "metadata": {
    "execution": {
     "iopub.execute_input": "2025-04-01T17:57:33.469958Z",
     "iopub.status.busy": "2025-04-01T17:57:33.469546Z",
     "iopub.status.idle": "2025-04-01T17:57:33.862345Z",
     "shell.execute_reply": "2025-04-01T17:57:33.860815Z"
    },
    "id": "d3f9591392a7",
    "papermill": {
     "duration": 0.409231,
     "end_time": "2025-04-01T17:57:33.864694",
     "exception": false,
     "start_time": "2025-04-01T17:57:33.455463",
     "status": "completed"
    },
    "tags": []
   },
   "outputs": [
    {
     "name": "stdout",
     "output_type": "stream",
     "text": [
      "Yes, I remember. Your name is Zlork.\n",
      "\n"
     ]
    }
   ],
   "source": [
    "response = chat.send_message('Do you remember what my name is?')\n",
    "print(response.text)"
   ]
  },
  {
   "cell_type": "markdown",
   "id": "880a8bac",
   "metadata": {
    "id": "2KAjpr1200sW",
    "papermill": {
     "duration": 0.012999,
     "end_time": "2025-04-01T17:57:33.891712",
     "exception": false,
     "start_time": "2025-04-01T17:57:33.878713",
     "status": "completed"
    },
    "tags": []
   },
   "source": [
    "### Choose a model\n",
    "\n",
    "The Gemini API provides access to a number of models from the Gemini model family. Read about the available models and their capabilities on the [model overview page](https://ai.google.dev/gemini-api/docs/models/gemini).\n",
    "\n",
    "In this step you'll use the API to list all of the available models."
   ]
  },
  {
   "cell_type": "code",
   "execution_count": 11,
   "id": "36ea1918",
   "metadata": {
    "execution": {
     "iopub.execute_input": "2025-04-01T17:57:33.919690Z",
     "iopub.status.busy": "2025-04-01T17:57:33.919297Z",
     "iopub.status.idle": "2025-04-01T17:57:33.972345Z",
     "shell.execute_reply": "2025-04-01T17:57:33.971062Z"
    },
    "id": "uUUZa2uq2jDm",
    "papermill": {
     "duration": 0.070326,
     "end_time": "2025-04-01T17:57:33.975077",
     "exception": false,
     "start_time": "2025-04-01T17:57:33.904751",
     "status": "completed"
    },
    "tags": []
   },
   "outputs": [
    {
     "name": "stdout",
     "output_type": "stream",
     "text": [
      "models/chat-bison-001\n",
      "models/text-bison-001\n",
      "models/embedding-gecko-001\n",
      "models/gemini-1.0-pro-vision-latest\n",
      "models/gemini-pro-vision\n",
      "models/gemini-1.5-pro-latest\n",
      "models/gemini-1.5-pro-001\n",
      "models/gemini-1.5-pro-002\n",
      "models/gemini-1.5-pro\n",
      "models/gemini-1.5-flash-latest\n",
      "models/gemini-1.5-flash-001\n",
      "models/gemini-1.5-flash-001-tuning\n",
      "models/gemini-1.5-flash\n",
      "models/gemini-1.5-flash-002\n",
      "models/gemini-1.5-flash-8b\n",
      "models/gemini-1.5-flash-8b-001\n",
      "models/gemini-1.5-flash-8b-latest\n",
      "models/gemini-1.5-flash-8b-exp-0827\n",
      "models/gemini-1.5-flash-8b-exp-0924\n",
      "models/gemini-2.5-pro-exp-03-25\n",
      "models/gemini-2.0-flash-exp\n",
      "models/gemini-2.0-flash\n",
      "models/gemini-2.0-flash-001\n",
      "models/gemini-2.0-flash-exp-image-generation\n",
      "models/gemini-2.0-flash-lite-001\n",
      "models/gemini-2.0-flash-lite\n",
      "models/gemini-2.0-flash-lite-preview-02-05\n",
      "models/gemini-2.0-flash-lite-preview\n",
      "models/gemini-2.0-pro-exp\n",
      "models/gemini-2.0-pro-exp-02-05\n",
      "models/gemini-exp-1206\n",
      "models/gemini-2.0-flash-thinking-exp-01-21\n",
      "models/gemini-2.0-flash-thinking-exp\n",
      "models/gemini-2.0-flash-thinking-exp-1219\n",
      "models/learnlm-1.5-pro-experimental\n",
      "models/gemma-3-4b-it\n",
      "models/gemma-3-12b-it\n",
      "models/gemma-3-27b-it\n",
      "models/embedding-001\n",
      "models/text-embedding-004\n",
      "models/gemini-embedding-exp-03-07\n",
      "models/gemini-embedding-exp\n",
      "models/aqa\n",
      "models/imagen-3.0-generate-002\n"
     ]
    }
   ],
   "source": [
    "for model in client.models.list():\n",
    "  print(model.name)"
   ]
  },
  {
   "cell_type": "markdown",
   "id": "ba772a17",
   "metadata": {
    "id": "rN49kSI54R1v",
    "papermill": {
     "duration": 0.013224,
     "end_time": "2025-04-01T17:57:34.002681",
     "exception": false,
     "start_time": "2025-04-01T17:57:33.989457",
     "status": "completed"
    },
    "tags": []
   },
   "source": [
    "The [`models.list`](https://ai.google.dev/api/models#method:-models.list) response also returns additional information about the model's capabilities, like the token limits and supported parameters."
   ]
  },
  {
   "cell_type": "code",
   "execution_count": 12,
   "id": "0ec3503d",
   "metadata": {
    "execution": {
     "iopub.execute_input": "2025-04-01T17:57:34.031715Z",
     "iopub.status.busy": "2025-04-01T17:57:34.031290Z",
     "iopub.status.idle": "2025-04-01T17:57:34.123348Z",
     "shell.execute_reply": "2025-04-01T17:57:34.122021Z"
    },
    "id": "k7JJ1K6j4Rl8",
    "papermill": {
     "duration": 0.110035,
     "end_time": "2025-04-01T17:57:34.126095",
     "exception": false,
     "start_time": "2025-04-01T17:57:34.016060",
     "status": "completed"
    },
    "tags": []
   },
   "outputs": [
    {
     "name": "stdout",
     "output_type": "stream",
     "text": [
      "{'description': 'Gemini 2.0 Flash',\n",
      " 'display_name': 'Gemini 2.0 Flash',\n",
      " 'input_token_limit': 1048576,\n",
      " 'name': 'models/gemini-2.0-flash',\n",
      " 'output_token_limit': 8192,\n",
      " 'supported_actions': ['generateContent', 'countTokens'],\n",
      " 'tuned_model_info': {},\n",
      " 'version': '2.0'}\n"
     ]
    }
   ],
   "source": [
    "from pprint import pprint\n",
    "\n",
    "for model in client.models.list():\n",
    "  if model.name == 'models/gemini-2.0-flash':\n",
    "    pprint(model.to_json_dict())\n",
    "    break"
   ]
  },
  {
   "cell_type": "markdown",
   "id": "a2d51aaa",
   "metadata": {
    "id": "5rU_UBlZdooM",
    "papermill": {
     "duration": 0.012852,
     "end_time": "2025-04-01T17:57:34.152401",
     "exception": false,
     "start_time": "2025-04-01T17:57:34.139549",
     "status": "completed"
    },
    "tags": []
   },
   "source": [
    "## Explore generation parameters\n",
    "\n"
   ]
  },
  {
   "cell_type": "markdown",
   "id": "847885f4",
   "metadata": {
    "id": "G7NfEizeipbW",
    "papermill": {
     "duration": 0.012865,
     "end_time": "2025-04-01T17:57:34.178422",
     "exception": false,
     "start_time": "2025-04-01T17:57:34.165557",
     "status": "completed"
    },
    "tags": []
   },
   "source": [
    "### Output length\n",
    "\n",
    "When generating text with an LLM, the output length affects cost and performance. Generating more tokens increases computation, leading to higher energy consumption, latency, and cost.\n",
    "\n",
    "To stop the model from generating tokens past a limit, you can specify the `max_output_tokens` parameter when using the Gemini API. Specifying this parameter does not influence the generation of the output tokens, so the output will not become more stylistically or textually succinct, but it will stop generating tokens once the specified length is reached. Prompt engineering may be required to generate a more complete output for your given limit."
   ]
  },
  {
   "cell_type": "code",
   "execution_count": 13,
   "id": "ab0efeb6",
   "metadata": {
    "execution": {
     "iopub.execute_input": "2025-04-01T17:57:34.207145Z",
     "iopub.status.busy": "2025-04-01T17:57:34.206766Z",
     "iopub.status.idle": "2025-04-01T17:57:35.722976Z",
     "shell.execute_reply": "2025-04-01T17:57:35.721610Z"
    },
    "id": "qVf23JsIi9ma",
    "papermill": {
     "duration": 1.53358,
     "end_time": "2025-04-01T17:57:35.725853",
     "exception": false,
     "start_time": "2025-04-01T17:57:34.192273",
     "status": "completed"
    },
    "tags": []
   },
   "outputs": [
    {
     "name": "stdout",
     "output_type": "stream",
     "text": [
      "## The Enduring Emerald: The Importance of Olives in Modern Society\n",
      "\n",
      "The humble olive, that small, unassuming fruit, has a history inextricably linked with civilization itself. From ancient mythology to modern cuisine, from medicine to energy production, the olive and its derivatives permeate our world in ways both obvious and subtle. Beyond a simple foodstuff, the olive represents a confluence of cultural heritage, economic activity, environmental considerations, and health benefits, making it an undeniably important element in modern society.\n",
      "\n",
      "One of the most significant contributions of the olive lies in its role as a cornerstone of the Mediterranean diet, widely recognized as one of the healthiest dietary patterns in the world. Olive oil, extracted from the fruit, forms the foundation of this diet, providing monounsaturated fats lauded for their cardioprotective properties. Studies consistently demonstrate the ability of olive oil consumption to lower LDL cholesterol, raise HDL cholesterol, and reduce the risk of heart disease, stroke, and certain types of cancer. The presence of polyphenols,\n"
     ]
    }
   ],
   "source": [
    "from google.genai import types\n",
    "\n",
    "short_config = types.GenerateContentConfig(max_output_tokens=200)\n",
    "\n",
    "response = client.models.generate_content(\n",
    "    model='gemini-2.0-flash',\n",
    "    config=short_config,\n",
    "    contents='Write a 1000 word essay on the importance of olives in modern society.')\n",
    "\n",
    "print(response.text)"
   ]
  },
  {
   "cell_type": "code",
   "execution_count": 14,
   "id": "bce645c3",
   "metadata": {
    "execution": {
     "iopub.execute_input": "2025-04-01T17:57:35.755217Z",
     "iopub.status.busy": "2025-04-01T17:57:35.754811Z",
     "iopub.status.idle": "2025-04-01T17:57:36.829682Z",
     "shell.execute_reply": "2025-04-01T17:57:36.828417Z"
    },
    "id": "W-3kR2F5kdMR",
    "papermill": {
     "duration": 1.092567,
     "end_time": "2025-04-01T17:57:36.832548",
     "exception": false,
     "start_time": "2025-04-01T17:57:35.739981",
     "status": "completed"
    },
    "tags": []
   },
   "outputs": [
    {
     "name": "stdout",
     "output_type": "stream",
     "text": [
      "From sun-drenched groves, a humble sphere,\n",
      "The olive comes, dispelling fear\n",
      "Of blandness, health, a touch of grace,\n",
      "Upon the table, finds its place.\n",
      "\n",
      "In oils so smooth, a golden flow,\n",
      "On pizzas bright, a vibrant show,\n",
      "In tapenades, a savory art,\n",
      "The olive plays a vital part.\n",
      "\n",
      "Beyond the taste, a heritage,\n",
      "A symbol deep, on history's page,\n",
      "So raise a glass, let flavors blend,\n",
      "The olive's gift, a cherished friend.\n",
      "\n"
     ]
    }
   ],
   "source": [
    "response = client.models.generate_content(\n",
    "    model='gemini-2.0-flash',\n",
    "    config=short_config,\n",
    "    contents='Write a short poem on the importance of olives in modern society.')\n",
    "\n",
    "print(response.text)"
   ]
  },
  {
   "cell_type": "markdown",
   "id": "9601c454",
   "metadata": {
    "id": "3ZhDSLB6lqqB",
    "papermill": {
     "duration": 0.013224,
     "end_time": "2025-04-01T17:57:36.859750",
     "exception": false,
     "start_time": "2025-04-01T17:57:36.846526",
     "status": "completed"
    },
    "tags": []
   },
   "source": [
    "Explore with your own prompts. Try a prompt with a restrictive output limit and then adjust the prompt to work within that limit."
   ]
  },
  {
   "cell_type": "markdown",
   "id": "f58ddaf5",
   "metadata": {
    "id": "alx-WaAvir_9",
    "papermill": {
     "duration": 0.013473,
     "end_time": "2025-04-01T17:57:36.887583",
     "exception": false,
     "start_time": "2025-04-01T17:57:36.874110",
     "status": "completed"
    },
    "tags": []
   },
   "source": [
    "### Temperature\n",
    "\n",
    "Temperature controls the degree of randomness in token selection. Higher temperatures result in a higher number of candidate tokens from which the next output token is selected, and can produce more diverse results, while lower temperatures have the opposite effect, such that a temperature of 0 results in greedy decoding, selecting the most probable token at each step.\n",
    "\n",
    "Temperature doesn't provide any guarantees of randomness, but it can be used to \"nudge\" the output somewhat."
   ]
  },
  {
   "cell_type": "code",
   "execution_count": 15,
   "id": "2ebfc650",
   "metadata": {
    "execution": {
     "iopub.execute_input": "2025-04-01T17:57:36.917307Z",
     "iopub.status.busy": "2025-04-01T17:57:36.916354Z",
     "iopub.status.idle": "2025-04-01T17:57:38.812272Z",
     "shell.execute_reply": "2025-04-01T17:57:38.811118Z"
    },
    "id": "SHraGMzqnZqt",
    "papermill": {
     "duration": 1.913791,
     "end_time": "2025-04-01T17:57:38.814969",
     "exception": false,
     "start_time": "2025-04-01T17:57:36.901178",
     "status": "completed"
    },
    "tags": []
   },
   "outputs": [
    {
     "name": "stdout",
     "output_type": "stream",
     "text": [
      "Teal\n",
      " -------------------------\n",
      "Turquoise\n",
      " -------------------------\n",
      "Turquoise\n",
      " -------------------------\n",
      "Magenta\n",
      " -------------------------\n",
      "Magenta\n",
      " -------------------------\n"
     ]
    }
   ],
   "source": [
    "high_temp_config = types.GenerateContentConfig(temperature=2.0)\n",
    "\n",
    "\n",
    "for _ in range(5):\n",
    "  response = client.models.generate_content(\n",
    "      model='gemini-2.0-flash',\n",
    "      config=high_temp_config,\n",
    "      contents='Pick a random colour... (respond in a single word)')\n",
    "\n",
    "  if response.text:\n",
    "    print(response.text, '-' * 25)"
   ]
  },
  {
   "cell_type": "markdown",
   "id": "ca1eaeb2",
   "metadata": {
    "id": "z3J4pCTuof7e",
    "papermill": {
     "duration": 0.013987,
     "end_time": "2025-04-01T17:57:38.843055",
     "exception": false,
     "start_time": "2025-04-01T17:57:38.829068",
     "status": "completed"
    },
    "tags": []
   },
   "source": [
    "Now try the same prompt with temperature set to zero. Note that the output is not completely deterministic, as other parameters affect token selection, but the results will tend to be more stable."
   ]
  },
  {
   "cell_type": "code",
   "execution_count": 16,
   "id": "2909654e",
   "metadata": {
    "execution": {
     "iopub.execute_input": "2025-04-01T17:57:38.874033Z",
     "iopub.status.busy": "2025-04-01T17:57:38.873163Z",
     "iopub.status.idle": "2025-04-01T17:57:40.706959Z",
     "shell.execute_reply": "2025-04-01T17:57:40.705899Z"
    },
    "id": "clymkWv-PfUZ",
    "papermill": {
     "duration": 1.852469,
     "end_time": "2025-04-01T17:57:40.709543",
     "exception": false,
     "start_time": "2025-04-01T17:57:38.857074",
     "status": "completed"
    },
    "tags": []
   },
   "outputs": [
    {
     "name": "stdout",
     "output_type": "stream",
     "text": [
      "Azure\n",
      " -------------------------\n",
      "Azure\n",
      " -------------------------\n",
      "Azure\n",
      " -------------------------\n",
      "Azure\n",
      " -------------------------\n",
      "Azure\n",
      " -------------------------\n"
     ]
    }
   ],
   "source": [
    "low_temp_config = types.GenerateContentConfig(temperature=0.0)\n",
    "\n",
    "for _ in range(5):\n",
    "  response = client.models.generate_content(\n",
    "      model='gemini-2.0-flash',\n",
    "      config=low_temp_config,\n",
    "      contents='Pick a random colour... (respond in a single word)')\n",
    "\n",
    "  if response.text:\n",
    "    print(response.text, '-' * 25)"
   ]
  },
  {
   "cell_type": "markdown",
   "id": "ca9f885d",
   "metadata": {
    "id": "St5nt3vzitsZ",
    "papermill": {
     "duration": 0.013864,
     "end_time": "2025-04-01T17:57:40.737814",
     "exception": false,
     "start_time": "2025-04-01T17:57:40.723950",
     "status": "completed"
    },
    "tags": []
   },
   "source": [
    "### Top-P\n",
    "\n",
    "Like temperature, the top-P parameter is also used to control the diversity of the model's output.\n",
    "\n",
    "Top-P defines the probability threshold that, once cumulatively exceeded, tokens stop being selected as candidates. A top-P of 0 is typically equivalent to greedy decoding, and a top-P of 1 typically selects every token in the model's vocabulary.\n",
    "\n",
    "You may also see top-K referenced in LLM literature. Top-K is not configurable in the Gemini 2.0 series of models, but can be changed in older models. Top-K is a positive integer that defines the number of most probable tokens from which to select the output token. A top-K of 1 selects a single token, performing greedy decoding.\n",
    "\n",
    "\n",
    "Run this example a number of times, change the settings and observe the change in output."
   ]
  },
  {
   "cell_type": "code",
   "execution_count": 17,
   "id": "503d2f9a",
   "metadata": {
    "execution": {
     "iopub.execute_input": "2025-04-01T17:57:40.768023Z",
     "iopub.status.busy": "2025-04-01T17:57:40.767526Z",
     "iopub.status.idle": "2025-04-01T17:59:11.520065Z",
     "shell.execute_reply": "2025-04-01T17:59:11.518848Z"
    },
    "id": "lPlzpEavUV8F",
    "papermill": {
     "duration": 90.783929,
     "end_time": "2025-04-01T17:59:11.535901",
     "exception": false,
     "start_time": "2025-04-01T17:57:40.751972",
     "status": "completed"
    },
    "tags": []
   },
   "outputs": [
    {
     "name": "stdout",
     "output_type": "stream",
     "text": [
      "Clementine, a marmalade tabby with a penchant for naps in sunbeams and a disdain for the vacuum cleaner, was, by all accounts, a house cat. Her world consisted of fluffy carpets, the rhythmic hum of the refrigerator, and the adoration of her human, a kindly old woman named Agnes. But Clementine harbored a secret yearning, a tiny spark of adventure fueled by the rustling of leaves outside the window and the tantalizing scents carried on the breeze.\n",
      "\n",
      "One Tuesday morning, the window was ajar. A particularly audacious cardinal perched on the sill, chirping a song so vibrant it vibrated right down to Clementine’s whiskers. The scent of damp earth and blooming honeysuckle wafted in, intoxicating her. The spark of adventure flared into a roaring flame.\n",
      "\n",
      "Agnes was in the garden, humming to her roses, oblivious to the internal struggle waging within her feline companion. With a decisive flick of her tail, Clementine leaped.\n",
      "\n",
      "Freedom!\n",
      "\n",
      "The world exploded with textures and smells. The rough bark of trees scratched pleasantly against her fur. Butterflies, larger than any she'd ever dreamed of, flitted past her nose. A squadron of bumblebees buzzed like tiny, furry airplanes.\n",
      "\n",
      "Her first challenge came in the form of a particularly imposing oak tree. Its branches beckoned, promising a panoramic view. Clementine, channeling the spirit of a mountain lion, scaled its rough surface with surprising agility. Perched high above, the world spread out before her - a tapestry of green lawns, colorful flowerbeds, and the distant, shimmering ribbon of the river.\n",
      "\n",
      "Emboldened, she continued her exploration. She stalked through tall grasses, imagining herself a mighty hunter. She encountered a grumpy hedgehog who huffed and puffed before waddling away. She even dared to bat playfully at a bewildered earthworm.\n",
      "\n",
      "The most thrilling encounter, however, was with a ginger tomcat, a battle-scarred veteran of the neighborhood. He regarded Clementine with a mixture of amusement and suspicion.\n",
      "\n",
      "\"Well, well,\" he rumbled, his voice a gravelly purr. \"What have we here? A pampered housecat gone wild?\"\n",
      "\n",
      "Clementine puffed out her chest, trying to appear more formidable than she felt. \"I am on an adventure,\" she declared.\n",
      "\n",
      "The tomcat chuckled. \"Adventure, eh? You wouldn't last a day out here.\"\n",
      "\n",
      "He then proceeded to regale her with tales of daring escapes from dogs, perilous climbs over fences, and the cunning art of scavenging for food. Clementine listened, wide-eyed, realizing the world was far more complex than she had imagined.\n",
      "\n",
      "As the sun began to dip below the horizon, painting the sky in hues of orange and purple, a familiar scent drifted on the breeze - Agnes’ rose-scented hand lotion. A pang of guilt and a surprising wave of homesickness washed over Clementine.\n",
      "\n",
      "\"I... I think I should go home,\" she mumbled.\n",
      "\n",
      "The tomcat nodded, a flicker of understanding in his amber eyes. \"Go on, then. But remember, the world is full of adventures. Just be careful which ones you choose.\"\n",
      "\n",
      "Clementine retraced her steps, her paws a little heavier than before. She found the window still ajar, and with a graceful leap, she was back in the familiar embrace of her home.\n",
      "\n",
      "Agnes was frantic. “Clementine! Where have you been? I was so worried!”\n",
      "\n",
      "Clementine purred, rubbing against Agnes’ legs. She didn't tell her about the oak tree, the hedgehog, or the ginger tomcat. She just curled up in Agnes' lap, feeling the comforting rhythm of her breathing.\n",
      "\n",
      "That night, as Clementine dreamt, the rustling leaves and the scent of honeysuckle filled her dreams. She was still a house cat, yes. But she was also a cat with a secret, a memory of a single, glorious day of adventure, and a newfound respect for the wild, untamed world that lay just beyond the windowsill. The spark of adventure had not been extinguished. It had merely been banked, waiting for another Tuesday morning and the call of the wild.\n",
      "\n"
     ]
    }
   ],
   "source": [
    "model_config = types.GenerateContentConfig(\n",
    "    # These are the default values for gemini-2.0-flash.\n",
    "    temperature=1.0,\n",
    "    top_p=0.95,\n",
    ")\n",
    "\n",
    "story_prompt = \"You are a creative writer. Write a short story about a cat who goes on an adventure.\"\n",
    "response = client.models.generate_content(\n",
    "    model='gemini-2.0-flash',\n",
    "    config=model_config,\n",
    "    contents=story_prompt)\n",
    "\n",
    "print(response.text)"
   ]
  },
  {
   "cell_type": "markdown",
   "id": "f85a79d8",
   "metadata": {
    "id": "rMrYs1koY6DX",
    "papermill": {
     "duration": 0.014171,
     "end_time": "2025-04-01T17:59:11.564233",
     "exception": false,
     "start_time": "2025-04-01T17:59:11.550062",
     "status": "completed"
    },
    "tags": []
   },
   "source": [
    "## Prompting\n",
    "\n",
    "This section contains some prompts from the chapter for you to try out directly in the API. Try changing the text here to see how each prompt performs with different instructions, more examples, or any other changes you can think of."
   ]
  },
  {
   "cell_type": "markdown",
   "id": "948a6869",
   "metadata": {
    "id": "hhj_tQidZJP7",
    "papermill": {
     "duration": 0.013397,
     "end_time": "2025-04-01T17:59:11.592145",
     "exception": false,
     "start_time": "2025-04-01T17:59:11.578748",
     "status": "completed"
    },
    "tags": []
   },
   "source": [
    "### Zero-shot\n",
    "\n",
    "Zero-shot prompts are prompts that describe the request for the model directly.\n",
    "\n",
    "<table align=left>\n",
    "  <td>\n",
    "    <a target=\"_blank\" href=\"https://aistudio.google.com/prompts/1gzKKgDHwkAvexG5Up0LMtl1-6jKMKe4g\"><img src=\"https://ai.google.dev/site-assets/images/marketing/home/icon-ais.png\" style=\"height: 24px\" height=24/> Open in AI Studio</a>\n",
    "  </td>\n",
    "</table>"
   ]
  },
  {
   "cell_type": "code",
   "execution_count": 18,
   "id": "997d6e6d",
   "metadata": {
    "execution": {
     "iopub.execute_input": "2025-04-01T17:59:11.621248Z",
     "iopub.status.busy": "2025-04-01T17:59:11.620847Z",
     "iopub.status.idle": "2025-04-01T17:59:11.924823Z",
     "shell.execute_reply": "2025-04-01T17:59:11.923668Z"
    },
    "id": "1_t-cwnDZzbH",
    "papermill": {
     "duration": 0.321272,
     "end_time": "2025-04-01T17:59:11.927180",
     "exception": false,
     "start_time": "2025-04-01T17:59:11.605908",
     "status": "completed"
    },
    "tags": []
   },
   "outputs": [
    {
     "name": "stdout",
     "output_type": "stream",
     "text": [
      "POSITIVE\n",
      "\n"
     ]
    }
   ],
   "source": [
    "model_config = types.GenerateContentConfig(\n",
    "    temperature=0.1,\n",
    "    top_p=1,\n",
    "    max_output_tokens=5,\n",
    ")\n",
    "\n",
    "zero_shot_prompt = \"\"\"Classify movie reviews as POSITIVE, NEUTRAL or NEGATIVE.\n",
    "Review: \"Her\" is a disturbing study revealing the direction\n",
    "humanity is headed if AI is allowed to keep evolving,\n",
    "unchecked. I wish there were more movies like this masterpiece.\n",
    "Sentiment: \"\"\"\n",
    "\n",
    "response = client.models.generate_content(\n",
    "    model='gemini-2.0-flash',\n",
    "    config=model_config,\n",
    "    contents=zero_shot_prompt)\n",
    "\n",
    "print(response.text)"
   ]
  },
  {
   "cell_type": "markdown",
   "id": "69480fb7",
   "metadata": {
    "id": "3b5568bdeb11",
    "papermill": {
     "duration": 0.015131,
     "end_time": "2025-04-01T17:59:11.956398",
     "exception": false,
     "start_time": "2025-04-01T17:59:11.941267",
     "status": "completed"
    },
    "tags": []
   },
   "source": [
    "#### Enum mode\n",
    "\n",
    "The models are trained to generate text, and while the Gemini 2.0 models are great at following instructions, other models can sometimes produce more text than you may wish for. In the preceding example, the model will output the label, but sometimes it can include a preceding \"Sentiment\" label, and without an output token limit, it may also add explanatory text afterwards. See [this prompt in AI Studio](https://aistudio.google.com/prompts/1gzKKgDHwkAvexG5Up0LMtl1-6jKMKe4g) for an example.\n",
    "\n",
    "The Gemini API has an [Enum mode](https://github.com/google-gemini/cookbook/blob/main/quickstarts/Enum.ipynb) feature that allows you to constrain the output to a fixed set of values."
   ]
  },
  {
   "cell_type": "code",
   "execution_count": 19,
   "id": "5a46d4b6",
   "metadata": {
    "execution": {
     "iopub.execute_input": "2025-04-01T17:59:11.986909Z",
     "iopub.status.busy": "2025-04-01T17:59:11.986193Z",
     "iopub.status.idle": "2025-04-01T17:59:12.388021Z",
     "shell.execute_reply": "2025-04-01T17:59:12.386865Z"
    },
    "id": "ad118a56c598",
    "papermill": {
     "duration": 0.419398,
     "end_time": "2025-04-01T17:59:12.390041",
     "exception": false,
     "start_time": "2025-04-01T17:59:11.970643",
     "status": "completed"
    },
    "tags": []
   },
   "outputs": [
    {
     "name": "stdout",
     "output_type": "stream",
     "text": [
      "positive\n"
     ]
    }
   ],
   "source": [
    "import enum\n",
    "\n",
    "class Sentiment(enum.Enum):\n",
    "    POSITIVE = \"positive\"\n",
    "    NEUTRAL = \"neutral\"\n",
    "    NEGATIVE = \"negative\"\n",
    "\n",
    "\n",
    "response = client.models.generate_content(\n",
    "    model='gemini-2.0-flash',\n",
    "    config=types.GenerateContentConfig(\n",
    "        response_mime_type=\"text/x.enum\",\n",
    "        response_schema=Sentiment\n",
    "    ),\n",
    "    contents=zero_shot_prompt)\n",
    "\n",
    "print(response.text)"
   ]
  },
  {
   "cell_type": "markdown",
   "id": "2579cd00",
   "metadata": {
    "papermill": {
     "duration": 0.013791,
     "end_time": "2025-04-01T17:59:12.417871",
     "exception": false,
     "start_time": "2025-04-01T17:59:12.404080",
     "status": "completed"
    },
    "tags": []
   },
   "source": [
    "When using constrained output like an enum, the Python SDK will attempt to convert the model's text response into a Python object automatically. It's stored in the `response.parsed` field."
   ]
  },
  {
   "cell_type": "code",
   "execution_count": 20,
   "id": "1ce65d43",
   "metadata": {
    "execution": {
     "iopub.execute_input": "2025-04-01T17:59:12.447793Z",
     "iopub.status.busy": "2025-04-01T17:59:12.447408Z",
     "iopub.status.idle": "2025-04-01T17:59:12.453445Z",
     "shell.execute_reply": "2025-04-01T17:59:12.452104Z"
    },
    "papermill": {
     "duration": 0.024161,
     "end_time": "2025-04-01T17:59:12.456041",
     "exception": false,
     "start_time": "2025-04-01T17:59:12.431880",
     "status": "completed"
    },
    "tags": []
   },
   "outputs": [
    {
     "name": "stdout",
     "output_type": "stream",
     "text": [
      "Sentiment.POSITIVE\n",
      "<enum 'Sentiment'>\n"
     ]
    }
   ],
   "source": [
    "enum_response = response.parsed\n",
    "print(enum_response)\n",
    "print(type(enum_response))"
   ]
  },
  {
   "cell_type": "markdown",
   "id": "c16d72ed",
   "metadata": {
    "id": "0udiSwNbv45W",
    "papermill": {
     "duration": 0.014046,
     "end_time": "2025-04-01T17:59:12.484718",
     "exception": false,
     "start_time": "2025-04-01T17:59:12.470672",
     "status": "completed"
    },
    "tags": []
   },
   "source": [
    "### One-shot and few-shot\n",
    "\n",
    "Providing an example of the expected response is known as a \"one-shot\" prompt. When you provide multiple examples, it is a \"few-shot\" prompt.\n",
    "\n",
    "<table align=left>\n",
    "  <td>\n",
    "    <a target=\"_blank\" href=\"https://aistudio.google.com/prompts/1jjWkjUSoMXmLvMJ7IzADr_GxHPJVV2bg\"><img src=\"https://ai.google.dev/site-assets/images/marketing/home/icon-ais.png\" style=\"height: 24px\" height=24/> Open in AI Studio</a>\n",
    "  </td>\n",
    "</table>\n"
   ]
  },
  {
   "cell_type": "code",
   "execution_count": 21,
   "id": "010bf3ef",
   "metadata": {
    "execution": {
     "iopub.execute_input": "2025-04-01T17:59:12.516223Z",
     "iopub.status.busy": "2025-04-01T17:59:12.515853Z",
     "iopub.status.idle": "2025-04-01T17:59:13.052428Z",
     "shell.execute_reply": "2025-04-01T17:59:13.051151Z"
    },
    "id": "hd4mVUukwOKZ",
    "papermill": {
     "duration": 0.554191,
     "end_time": "2025-04-01T17:59:13.054657",
     "exception": false,
     "start_time": "2025-04-01T17:59:12.500466",
     "status": "completed"
    },
    "tags": []
   },
   "outputs": [
    {
     "name": "stdout",
     "output_type": "stream",
     "text": [
      "```json\n",
      "{\n",
      "\"size\": \"large\",\n",
      "\"type\": \"normal\",\n",
      "\"ingredients\": [\"cheese\", \"pineapple\"]\n",
      "}\n",
      "```\n",
      "\n"
     ]
    }
   ],
   "source": [
    "few_shot_prompt = \"\"\"Parse a customer's pizza order into valid JSON:\n",
    "\n",
    "EXAMPLE:\n",
    "I want a small pizza with cheese, tomato sauce, and pepperoni.\n",
    "JSON Response:\n",
    "```\n",
    "{\n",
    "\"size\": \"small\",\n",
    "\"type\": \"normal\",\n",
    "\"ingredients\": [\"cheese\", \"tomato sauce\", \"pepperoni\"]\n",
    "}\n",
    "```\n",
    "\n",
    "EXAMPLE:\n",
    "Can I get a large pizza with tomato sauce, basil and mozzarella\n",
    "JSON Response:\n",
    "```\n",
    "{\n",
    "\"size\": \"large\",\n",
    "\"type\": \"normal\",\n",
    "\"ingredients\": [\"tomato sauce\", \"basil\", \"mozzarella\"]\n",
    "}\n",
    "```\n",
    "\n",
    "ORDER:\n",
    "\"\"\"\n",
    "\n",
    "customer_order = \"Give me a large with cheese & pineapple\"\n",
    "\n",
    "response = client.models.generate_content(\n",
    "    model='gemini-2.0-flash',\n",
    "    config=types.GenerateContentConfig(\n",
    "        temperature=0.1,\n",
    "        top_p=1,\n",
    "        max_output_tokens=250,\n",
    "    ),\n",
    "    contents=[few_shot_prompt, customer_order])\n",
    "\n",
    "print(response.text)"
   ]
  },
  {
   "cell_type": "markdown",
   "id": "f807fac5",
   "metadata": {
    "id": "021293096f08",
    "papermill": {
     "duration": 0.014678,
     "end_time": "2025-04-01T17:59:13.083641",
     "exception": false,
     "start_time": "2025-04-01T17:59:13.068963",
     "status": "completed"
    },
    "tags": []
   },
   "source": [
    "#### JSON mode\n",
    "\n",
    "To provide control over the schema, and to ensure that you only receive JSON (with no other text or markdown), you can use the Gemini API's [JSON mode](https://github.com/google-gemini/cookbook/blob/main/quickstarts/JSON_mode.ipynb). This forces the model to constrain decoding, such that token selection is guided by the supplied schema."
   ]
  },
  {
   "cell_type": "code",
   "execution_count": 22,
   "id": "fec4869c",
   "metadata": {
    "execution": {
     "iopub.execute_input": "2025-04-01T17:59:13.114178Z",
     "iopub.status.busy": "2025-04-01T17:59:13.113787Z",
     "iopub.status.idle": "2025-04-01T17:59:13.598777Z",
     "shell.execute_reply": "2025-04-01T17:59:13.597412Z"
    },
    "id": "50fbf0260912",
    "papermill": {
     "duration": 0.503104,
     "end_time": "2025-04-01T17:59:13.601111",
     "exception": false,
     "start_time": "2025-04-01T17:59:13.098007",
     "status": "completed"
    },
    "tags": []
   },
   "outputs": [
    {
     "name": "stdout",
     "output_type": "stream",
     "text": [
      "{\n",
      "  \"size\": \"large\",\n",
      "  \"ingredients\": [\"apple\", \"chocolate\"],\n",
      "  \"type\": \"dessert\"\n",
      "}\n"
     ]
    }
   ],
   "source": [
    "import typing_extensions as typing\n",
    "\n",
    "class PizzaOrder(typing.TypedDict):\n",
    "    size: str\n",
    "    ingredients: list[str]\n",
    "    type: str\n",
    "\n",
    "\n",
    "response = client.models.generate_content(\n",
    "    model='gemini-2.0-flash',\n",
    "    config=types.GenerateContentConfig(\n",
    "        temperature=0.1,\n",
    "        response_mime_type=\"application/json\",\n",
    "        response_schema=PizzaOrder,\n",
    "    ),\n",
    "    contents=\"Can I have a large dessert pizza with apple and chocolate\")\n",
    "\n",
    "print(response.text)"
   ]
  },
  {
   "cell_type": "markdown",
   "id": "9a7e71d1",
   "metadata": {
    "id": "4a93e338e57c",
    "papermill": {
     "duration": 0.013901,
     "end_time": "2025-04-01T17:59:13.629495",
     "exception": false,
     "start_time": "2025-04-01T17:59:13.615594",
     "status": "completed"
    },
    "tags": []
   },
   "source": [
    "### Chain of Thought (CoT)\n",
    "\n",
    "Direct prompting on LLMs can return answers quickly and (in terms of output token usage) efficiently, but they can be prone to hallucination. The answer may \"look\" correct (in terms of language and syntax) but is incorrect in terms of factuality and reasoning.\n",
    "\n",
    "Chain-of-Thought prompting is a technique where you instruct the model to output intermediate reasoning steps, and it typically gets better results, especially when combined with few-shot examples. It is worth noting that this technique doesn't completely eliminate hallucinations, and that it tends to cost more to run, due to the increased token count.\n",
    "\n",
    "Models like the Gemini family are trained to be \"chatty\" or \"thoughtful\" and will provide reasoning steps without prompting, so for this simple example you can ask the model to be more direct in the prompt to force a non-reasoning response. Try re-running this step if the model gets lucky and gets the answer correct on the first try."
   ]
  },
  {
   "cell_type": "code",
   "execution_count": 23,
   "id": "407b61cd",
   "metadata": {
    "execution": {
     "iopub.execute_input": "2025-04-01T17:59:13.659466Z",
     "iopub.status.busy": "2025-04-01T17:59:13.659081Z",
     "iopub.status.idle": "2025-04-01T17:59:13.987481Z",
     "shell.execute_reply": "2025-04-01T17:59:13.986170Z"
    },
    "id": "5715555db1c1",
    "papermill": {
     "duration": 0.34588,
     "end_time": "2025-04-01T17:59:13.989626",
     "exception": false,
     "start_time": "2025-04-01T17:59:13.643746",
     "status": "completed"
    },
    "tags": []
   },
   "outputs": [
    {
     "name": "stdout",
     "output_type": "stream",
     "text": [
      "52\n",
      "\n"
     ]
    }
   ],
   "source": [
    "prompt = \"\"\"When I was 4 years old, my partner was 3 times my age. Now, I\n",
    "am 20 years old. How old is my partner? Return the answer directly.\"\"\"\n",
    "\n",
    "response = client.models.generate_content(\n",
    "    model='gemini-2.0-flash',\n",
    "    contents=prompt)\n",
    "\n",
    "print(response.text)"
   ]
  },
  {
   "cell_type": "markdown",
   "id": "792fd37a",
   "metadata": {
    "id": "e12b19677bfd",
    "papermill": {
     "duration": 0.014069,
     "end_time": "2025-04-01T17:59:14.018649",
     "exception": false,
     "start_time": "2025-04-01T17:59:14.004580",
     "status": "completed"
    },
    "tags": []
   },
   "source": [
    "Now try the same approach, but indicate to the model that it should \"think step by step\"."
   ]
  },
  {
   "cell_type": "code",
   "execution_count": 24,
   "id": "29b10ced",
   "metadata": {
    "execution": {
     "iopub.execute_input": "2025-04-01T17:59:14.050032Z",
     "iopub.status.busy": "2025-04-01T17:59:14.049641Z",
     "iopub.status.idle": "2025-04-01T17:59:15.043995Z",
     "shell.execute_reply": "2025-04-01T17:59:15.042737Z"
    },
    "id": "ffd7536a481f",
    "papermill": {
     "duration": 1.013552,
     "end_time": "2025-04-01T17:59:15.046421",
     "exception": false,
     "start_time": "2025-04-01T17:59:14.032869",
     "status": "completed"
    },
    "tags": []
   },
   "outputs": [
    {
     "data": {
      "text/markdown": [
       "Here's how to solve the problem:\n",
       "\n",
       "*   **Step 1: Find the age difference.**\n",
       "    *   When you were 4, your partner was 3 * 4 = 12 years old.\n",
       "    *   The age difference between you and your partner is 12 - 4 = 8 years.\n",
       "\n",
       "*   **Step 2: Calculate the partner's current age.**\n",
       "    *   Since the age difference remains constant, your partner is always 8 years older than you.\n",
       "    *   Now that you are 20, your partner is 20 + 8 = 28 years old.\n",
       "\n",
       "**Answer:** Your partner is 28 years old."
      ],
      "text/plain": [
       "<IPython.core.display.Markdown object>"
      ]
     },
     "execution_count": 24,
     "metadata": {},
     "output_type": "execute_result"
    }
   ],
   "source": [
    "prompt = \"\"\"When I was 4 years old, my partner was 3 times my age. Now,\n",
    "I am 20 years old. How old is my partner? Let's think step by step.\"\"\"\n",
    "\n",
    "response = client.models.generate_content(\n",
    "    model='gemini-2.0-flash',\n",
    "    contents=prompt)\n",
    "\n",
    "Markdown(response.text)"
   ]
  },
  {
   "cell_type": "markdown",
   "id": "19a4347b",
   "metadata": {
    "id": "oiLgBQJj0V53",
    "papermill": {
     "duration": 0.015665,
     "end_time": "2025-04-01T17:59:15.077233",
     "exception": false,
     "start_time": "2025-04-01T17:59:15.061568",
     "status": "completed"
    },
    "tags": []
   },
   "source": [
    "### ReAct: Reason and act\n",
    "\n",
    "In this example you will run a ReAct prompt directly in the Gemini API and perform the searching steps yourself. As this prompt follows a well-defined structure, there are frameworks available that wrap the prompt into easier-to-use APIs that make tool calls automatically, such as the LangChain example from the \"Prompting\" whitepaper.\n",
    "\n",
    "To try this out with the Wikipedia search engine, check out the [Searching Wikipedia with ReAct](https://github.com/google-gemini/cookbook/blob/main/examples/Search_Wikipedia_using_ReAct.ipynb) cookbook example.\n",
    "\n",
    "\n",
    "> Note: The prompt and in-context examples used here are from [https://github.com/ysymyth/ReAct](https://github.com/ysymyth/ReAct) which is published under an [MIT license](https://opensource.org/licenses/MIT), Copyright (c) 2023 Shunyu Yao.\n",
    "\n",
    "<table align=left>\n",
    "  <td>\n",
    "    <a target=\"_blank\" href=\"https://aistudio.google.com/prompts/18oo63Lwosd-bQ6Ay51uGogB3Wk3H8XMO\"><img src=\"https://ai.google.dev/site-assets/images/marketing/home/icon-ais.png\" style=\"height: 24px\" height=24/> Open in AI Studio</a>\n",
    "  </td>\n",
    "</table>\n"
   ]
  },
  {
   "cell_type": "code",
   "execution_count": 25,
   "id": "1392e050",
   "metadata": {
    "execution": {
     "iopub.execute_input": "2025-04-01T17:59:15.112055Z",
     "iopub.status.busy": "2025-04-01T17:59:15.111654Z",
     "iopub.status.idle": "2025-04-01T17:59:15.119806Z",
     "shell.execute_reply": "2025-04-01T17:59:15.118562Z"
    },
    "id": "cBgyNJ5z0VSs",
    "papermill": {
     "duration": 0.02671,
     "end_time": "2025-04-01T17:59:15.122237",
     "exception": false,
     "start_time": "2025-04-01T17:59:15.095527",
     "status": "completed"
    },
    "tags": []
   },
   "outputs": [],
   "source": [
    "model_instructions = \"\"\"\n",
    "Solve a question answering task with interleaving Thought, Action, Observation steps. Thought can reason about the current situation,\n",
    "Observation is understanding relevant information from an Action's output and Action can be one of three types:\n",
    " (1) <search>entity</search>, which searches the exact entity on Wikipedia and returns the first paragraph if it exists. If not, it\n",
    "     will return some similar entities to search and you can try to search the information from those topics.\n",
    " (2) <lookup>keyword</lookup>, which returns the next sentence containing keyword in the current context. This only does exact matches,\n",
    "     so keep your searches short.\n",
    " (3) <finish>answer</finish>, which returns the answer and finishes the task.\n",
    "\"\"\"\n",
    "\n",
    "example1 = \"\"\"Question\n",
    "Musician and satirist Allie Goertz wrote a song about the \"The Simpsons\" character Milhouse, who Matt Groening named after who?\n",
    "\n",
    "Thought 1\n",
    "The question simplifies to \"The Simpsons\" character Milhouse is named after who. I only need to search Milhouse and find who it is named after.\n",
    "\n",
    "Action 1\n",
    "<search>Milhouse</search>\n",
    "\n",
    "Observation 1\n",
    "Milhouse Mussolini Van Houten is a recurring character in the Fox animated television series The Simpsons voiced by Pamela Hayden and created by Matt Groening.\n",
    "\n",
    "Thought 2\n",
    "The paragraph does not tell who Milhouse is named after, maybe I can look up \"named after\".\n",
    "\n",
    "Action 2\n",
    "<lookup>named after</lookup>\n",
    "\n",
    "Observation 2\n",
    "Milhouse was named after U.S. president Richard Nixon, whose middle name was Milhous.\n",
    "\n",
    "Thought 3\n",
    "Milhouse was named after U.S. president Richard Nixon, so the answer is Richard Nixon.\n",
    "\n",
    "Action 3\n",
    "<finish>Richard Nixon</finish>\n",
    "\"\"\"\n",
    "\n",
    "example2 = \"\"\"Question\n",
    "What is the elevation range for the area that the eastern sector of the Colorado orogeny extends into?\n",
    "\n",
    "Thought 1\n",
    "I need to search Colorado orogeny, find the area that the eastern sector of the Colorado orogeny extends into, then find the elevation range of the area.\n",
    "\n",
    "Action 1\n",
    "<search>Colorado orogeny</search>\n",
    "\n",
    "Observation 1\n",
    "The Colorado orogeny was an episode of mountain building (an orogeny) in Colorado and surrounding areas.\n",
    "\n",
    "Thought 2\n",
    "It does not mention the eastern sector. So I need to look up eastern sector.\n",
    "\n",
    "Action 2\n",
    "<lookup>eastern sector</lookup>\n",
    "\n",
    "Observation 2\n",
    "The eastern sector extends into the High Plains and is called the Central Plains orogeny.\n",
    "\n",
    "Thought 3\n",
    "The eastern sector of Colorado orogeny extends into the High Plains. So I need to search High Plains and find its elevation range.\n",
    "\n",
    "Action 3\n",
    "<search>High Plains</search>\n",
    "\n",
    "Observation 3\n",
    "High Plains refers to one of two distinct land regions\n",
    "\n",
    "Thought 4\n",
    "I need to instead search High Plains (United States).\n",
    "\n",
    "Action 4\n",
    "<search>High Plains (United States)</search>\n",
    "\n",
    "Observation 4\n",
    "The High Plains are a subregion of the Great Plains. From east to west, the High Plains rise in elevation from around 1,800 to 7,000 ft (550 to 2,130m).\n",
    "\n",
    "Thought 5\n",
    "High Plains rise in elevation from around 1,800 to 7,000 ft, so the answer is 1,800 to 7,000 ft.\n",
    "\n",
    "Action 5\n",
    "<finish>1,800 to 7,000 ft</finish>\n",
    "\"\"\"\n",
    "\n",
    "# Come up with more examples yourself, or take a look through https://github.com/ysymyth/ReAct/"
   ]
  },
  {
   "cell_type": "markdown",
   "id": "9d57e135",
   "metadata": {
    "id": "C3wbfstjTgey",
    "papermill": {
     "duration": 0.014475,
     "end_time": "2025-04-01T17:59:15.152678",
     "exception": false,
     "start_time": "2025-04-01T17:59:15.138203",
     "status": "completed"
    },
    "tags": []
   },
   "source": [
    "To capture a single step at a time, while ignoring any hallucinated Observation steps, you will use `stop_sequences` to end the generation process. The steps are `Thought`, `Action`, `Observation`, in that order."
   ]
  },
  {
   "cell_type": "code",
   "execution_count": 26,
   "id": "8a5db827",
   "metadata": {
    "execution": {
     "iopub.execute_input": "2025-04-01T17:59:15.183611Z",
     "iopub.status.busy": "2025-04-01T17:59:15.183207Z",
     "iopub.status.idle": "2025-04-01T17:59:15.691191Z",
     "shell.execute_reply": "2025-04-01T17:59:15.689830Z"
    },
    "id": "8mxrXRkRTdXm",
    "papermill": {
     "duration": 0.526601,
     "end_time": "2025-04-01T17:59:15.693842",
     "exception": false,
     "start_time": "2025-04-01T17:59:15.167241",
     "status": "completed"
    },
    "tags": []
   },
   "outputs": [
    {
     "name": "stdout",
     "output_type": "stream",
     "text": [
      "Thought 1\n",
      "I need to find the Transformers NLP paper and then identify the youngest author listed on it.\n",
      "\n",
      "Action 1\n",
      "<search>Transformers NLP paper</search>\n",
      "\n"
     ]
    }
   ],
   "source": [
    "question = \"\"\"Question\n",
    "Who was the youngest author listed on the transformers NLP paper?\n",
    "\"\"\"\n",
    "\n",
    "# You will perform the Action; so generate up to, but not including, the Observation.\n",
    "react_config = types.GenerateContentConfig(\n",
    "    stop_sequences=[\"\\nObservation\"],\n",
    "    system_instruction=model_instructions + example1 + example2,\n",
    ")\n",
    "\n",
    "# Create a chat that has the model instructions and examples pre-seeded.\n",
    "react_chat = client.chats.create(\n",
    "    model='gemini-2.0-flash',\n",
    "    config=react_config,\n",
    ")\n",
    "\n",
    "resp = react_chat.send_message(question)\n",
    "print(resp.text)"
   ]
  },
  {
   "cell_type": "markdown",
   "id": "b51c688c",
   "metadata": {
    "id": "aW2PIdLbVv3l",
    "papermill": {
     "duration": 0.024563,
     "end_time": "2025-04-01T17:59:15.741191",
     "exception": false,
     "start_time": "2025-04-01T17:59:15.716628",
     "status": "completed"
    },
    "tags": []
   },
   "source": [
    "Now you can perform this research yourself and supply it back to the model."
   ]
  },
  {
   "cell_type": "code",
   "execution_count": 27,
   "id": "b6b4bffb",
   "metadata": {
    "execution": {
     "iopub.execute_input": "2025-04-01T17:59:15.775092Z",
     "iopub.status.busy": "2025-04-01T17:59:15.774701Z",
     "iopub.status.idle": "2025-04-01T17:59:16.407069Z",
     "shell.execute_reply": "2025-04-01T17:59:16.405929Z"
    },
    "id": "mLMc0DZaV9g2",
    "papermill": {
     "duration": 0.652252,
     "end_time": "2025-04-01T17:59:16.410069",
     "exception": false,
     "start_time": "2025-04-01T17:59:15.757817",
     "status": "completed"
    },
    "tags": []
   },
   "outputs": [
    {
     "name": "stdout",
     "output_type": "stream",
     "text": [
      "Thought 2\n",
      "I now have the authors of the \"Attention is All You Need\" paper. To determine the youngest author, I need to find the birthdates of each author. I'll start with Ashish Vaswani.\n",
      "\n",
      "Action 2\n",
      "<search>Ashish Vaswani birthdate</search>\n",
      "\n"
     ]
    }
   ],
   "source": [
    "observation = \"\"\"Observation 1\n",
    "[1706.03762] Attention Is All You Need\n",
    "Ashish Vaswani, Noam Shazeer, Niki Parmar, Jakob Uszkoreit, Llion Jones, Aidan N. Gomez, Lukasz Kaiser, Illia Polosukhin\n",
    "We propose a new simple network architecture, the Transformer, based solely on attention mechanisms, dispensing with recurrence and convolutions entirely.\n",
    "\"\"\"\n",
    "resp = react_chat.send_message(observation)\n",
    "print(resp.text)"
   ]
  },
  {
   "cell_type": "markdown",
   "id": "3af38a1e",
   "metadata": {
    "id": "bo0tzf4nX6dA",
    "papermill": {
     "duration": 0.015676,
     "end_time": "2025-04-01T17:59:16.446523",
     "exception": false,
     "start_time": "2025-04-01T17:59:16.430847",
     "status": "completed"
    },
    "tags": []
   },
   "source": [
    "This process repeats until the `<finish>` action is reached. You can continue running this yourself if you like, or try the [Wikipedia example](https://github.com/google-gemini/cookbook/blob/main/examples/Search_Wikipedia_using_ReAct.ipynb) to see a fully automated ReAct system at work."
   ]
  },
  {
   "cell_type": "markdown",
   "id": "93a762e0",
   "metadata": {
    "papermill": {
     "duration": 0.015789,
     "end_time": "2025-04-01T17:59:16.477501",
     "exception": false,
     "start_time": "2025-04-01T17:59:16.461712",
     "status": "completed"
    },
    "tags": []
   },
   "source": [
    "## Thinking mode\n",
    "\n",
    "The experiemental Gemini Flash 2.0 \"Thinking\" model has been trained to generate the \"thinking process\" the model goes through as part of its response. As a result, the Flash Thinking model is capable of stronger reasoning capabilities in its responses.\n",
    "\n",
    "Using a \"thinking mode\" model can provide you with high-quality responses without needing specialised prompting like the previous approaches. One reason this technique is effective is that you induce the model to generate relevant information (\"brainstorming\", or \"thoughts\") that is then used as part of the context in which the final response is generated.\n",
    "\n",
    "Note that when you use the API, you get the final response from the model, but the thoughts are not captured. To see the intermediate thoughts, try out [the thinking mode model in AI Studio](https://aistudio.google.com/prompts/new_chat?model=gemini-2.0-flash-thinking-exp-01-21).\n",
    "\n",
    "<table align=left>\n",
    "  <td>\n",
    "    <a target=\"_blank\" href=\"https://aistudio.google.com/prompts/1Z991SV7lZZZqioOiqIUPv9a9ix-ws4zk\"><img src=\"https://ai.google.dev/site-assets/images/marketing/home/icon-ais.png\" style=\"height: 24px\" height=24/> Open in AI Studio</a>\n",
    "  </td>\n",
    "</table>"
   ]
  },
  {
   "cell_type": "code",
   "execution_count": 28,
   "id": "8b537ae1",
   "metadata": {
    "execution": {
     "iopub.execute_input": "2025-04-01T17:59:16.508627Z",
     "iopub.status.busy": "2025-04-01T17:59:16.508214Z",
     "iopub.status.idle": "2025-04-01T17:59:26.463439Z",
     "shell.execute_reply": "2025-04-01T17:59:26.462285Z"
    },
    "papermill": {
     "duration": 9.973753,
     "end_time": "2025-04-01T17:59:26.465869",
     "exception": false,
     "start_time": "2025-04-01T17:59:16.492116",
     "status": "completed"
    },
    "tags": []
   },
   "outputs": [
    {
     "data": {
      "text/markdown": [
       "Based on publicly available information, it appears the youngest author listed on the \"Attention is All You Need\" paper (which introduced the Transformer architecture) is **Aidan N. Gomez**.\n",
       "\n",
       "Here's why and how we can deduce this:\n",
       "\n",
       "* **\"Attention is All You Need\" Authors:** The authors are: Ashish Vaswani, Noam Shazeer, Niki Parmar, Jakob Uszkoreit, Llion Jones, Aidan N. Gomez, Łukasz Kaiser, and Illia Polosukhin.\n",
       "\n",
       "* **Aidan N. Gomez's Age:**  Public information, including his personal website and various online profiles, indicates that Aidan N. Gomez was born in **1995**.  The \"Attention is All You Need\" paper was published in **2017**. This would make him approximately **22 years old** at the time of publication.\n",
       "\n",
       "* **Comparing to other authors (based on available information):** While precise birth years for all authors aren't readily available, we can infer relative ages based on their career stages and affiliations at the time of publication:\n",
       "    * **Ashish Vaswani, Noam Shazeer, Niki Parmar, Jakob Uszkoreit, Llion Jones, Łukasz Kaiser, and Illia Polosukhin:**  These authors were all affiliated with Google Brain at the time of publication.  Researchers at Google Brain typically have PhDs and some years of experience post-PhD. This suggests they were likely older than someone in their early twenties.\n",
       "\n",
       "**Therefore, based on the available information, Aidan N. Gomez, born in 1995, would have been the youngest author on the \"Attention is All You Need\" paper at approximately 22 years old in 2017.**\n",
       "\n",
       "It's important to note that this is based on publicly available information and estimations.  It's always possible there's some private information that would change this conclusion, but given what's accessible, Aidan N. Gomez is very likely the youngest author."
      ],
      "text/plain": [
       "<IPython.core.display.Markdown object>"
      ]
     },
     "execution_count": 28,
     "metadata": {},
     "output_type": "execute_result"
    }
   ],
   "source": [
    "import io\n",
    "from IPython.display import Markdown, clear_output\n",
    "\n",
    "\n",
    "response = client.models.generate_content_stream(\n",
    "    model='gemini-2.0-flash-thinking-exp',\n",
    "    contents='Who was the youngest author listed on the transformers NLP paper?',\n",
    ")\n",
    "\n",
    "buf = io.StringIO()\n",
    "for chunk in response:\n",
    "    buf.write(chunk.text)\n",
    "    # Display the response as it is streamed\n",
    "    print(chunk.text, end='')\n",
    "\n",
    "# And then render the finished response as formatted markdown.\n",
    "clear_output()\n",
    "Markdown(buf.getvalue())"
   ]
  },
  {
   "cell_type": "markdown",
   "id": "1c4fd9d1",
   "metadata": {
    "id": "jPiZ_eIIaVPt",
    "papermill": {
     "duration": 0.014484,
     "end_time": "2025-04-01T17:59:26.495408",
     "exception": false,
     "start_time": "2025-04-01T17:59:26.480924",
     "status": "completed"
    },
    "tags": []
   },
   "source": [
    "## Code prompting"
   ]
  },
  {
   "cell_type": "markdown",
   "id": "f90997da",
   "metadata": {
    "id": "ZinKamwXeR6C",
    "papermill": {
     "duration": 0.014837,
     "end_time": "2025-04-01T17:59:26.525356",
     "exception": false,
     "start_time": "2025-04-01T17:59:26.510519",
     "status": "completed"
    },
    "tags": []
   },
   "source": [
    "### Generating code\n",
    "\n",
    "The Gemini family of models can be used to generate code, configuration and scripts. Generating code can be helpful when learning to code, learning a new language or for rapidly generating a first draft.\n",
    "\n",
    "It's important to be aware that since LLMs can make mistakes, and can repeat training data, it's essential to read and test your code first, and comply with any relevant licenses.\n",
    "\n",
    "<table align=left>\n",
    "  <td>\n",
    "    <a target=\"_blank\" href=\"https://aistudio.google.com/prompts/1YX71JGtzDjXQkgdes8bP6i3oH5lCRKxv\"><img src=\"https://ai.google.dev/site-assets/images/marketing/home/icon-ais.png\" style=\"height: 24px\" height=24/> Open in AI Studio</a>\n",
    "  </td>\n",
    "</table>"
   ]
  },
  {
   "cell_type": "code",
   "execution_count": 29,
   "id": "d70f7c4a",
   "metadata": {
    "execution": {
     "iopub.execute_input": "2025-04-01T17:59:26.561141Z",
     "iopub.status.busy": "2025-04-01T17:59:26.560704Z",
     "iopub.status.idle": "2025-04-01T17:59:27.560362Z",
     "shell.execute_reply": "2025-04-01T17:59:27.559213Z"
    },
    "id": "fOQP9pqmeUO1",
    "papermill": {
     "duration": 1.02256,
     "end_time": "2025-04-01T17:59:27.562680",
     "exception": false,
     "start_time": "2025-04-01T17:59:26.540120",
     "status": "completed"
    },
    "tags": []
   },
   "outputs": [
    {
     "data": {
      "text/markdown": [
       "```python\n",
       "def factorial(n):\n",
       "  \"\"\"\n",
       "  Calculates the factorial of a non-negative integer.\n",
       "\n",
       "  Args:\n",
       "    n: A non-negative integer.\n",
       "\n",
       "  Returns:\n",
       "    The factorial of n.  Returns 1 if n is 0.\n",
       "    Raises ValueError if n is negative.\n",
       "  \"\"\"\n",
       "  if n < 0:\n",
       "    raise ValueError(\"Factorial is not defined for negative numbers.\")\n",
       "  if n == 0:\n",
       "    return 1\n",
       "  else:\n",
       "    result = 1\n",
       "    for i in range(1, n + 1):\n",
       "      result *= i\n",
       "    return result\n",
       "```"
      ],
      "text/plain": [
       "<IPython.core.display.Markdown object>"
      ]
     },
     "execution_count": 29,
     "metadata": {},
     "output_type": "execute_result"
    }
   ],
   "source": [
    "# The Gemini models love to talk, so it helps to specify they stick to the code if that\n",
    "# is all that you want.\n",
    "code_prompt = \"\"\"\n",
    "Write a Python function to calculate the factorial of a number. No explanation, provide only the code.\n",
    "\"\"\"\n",
    "\n",
    "response = client.models.generate_content(\n",
    "    model='gemini-2.0-flash',\n",
    "    config=types.GenerateContentConfig(\n",
    "        temperature=1,\n",
    "        top_p=1,\n",
    "        max_output_tokens=1024,\n",
    "    ),\n",
    "    contents=code_prompt)\n",
    "\n",
    "Markdown(response.text)"
   ]
  },
  {
   "cell_type": "markdown",
   "id": "7febbca8",
   "metadata": {
    "id": "wlBMWSFhgVRQ",
    "papermill": {
     "duration": 0.015534,
     "end_time": "2025-04-01T17:59:27.595075",
     "exception": false,
     "start_time": "2025-04-01T17:59:27.579541",
     "status": "completed"
    },
    "tags": []
   },
   "source": [
    "### Code execution\n",
    "\n",
    "The Gemini API can automatically run generated code too, and will return the output.\n",
    "\n",
    "<table align=left>\n",
    "  <td>\n",
    "    <a target=\"_blank\" href=\"https://aistudio.google.com/prompts/11veFr_VYEwBWcLkhNLr-maCG0G8sS_7Z\"><img src=\"https://ai.google.dev/site-assets/images/marketing/home/icon-ais.png\" style=\"height: 24px\" height=24/> Open in AI Studio</a>\n",
    "  </td>\n",
    "</table>"
   ]
  },
  {
   "cell_type": "code",
   "execution_count": 30,
   "id": "17472d31",
   "metadata": {
    "execution": {
     "iopub.execute_input": "2025-04-01T17:59:27.627669Z",
     "iopub.status.busy": "2025-04-01T17:59:27.627265Z",
     "iopub.status.idle": "2025-04-01T17:59:29.692567Z",
     "shell.execute_reply": "2025-04-01T17:59:29.691026Z"
    },
    "id": "jT3OfWYfhjRL",
    "papermill": {
     "duration": 2.084686,
     "end_time": "2025-04-01T17:59:29.695083",
     "exception": false,
     "start_time": "2025-04-01T17:59:27.610397",
     "status": "completed"
    },
    "tags": []
   },
   "outputs": [
    {
     "name": "stdout",
     "output_type": "stream",
     "text": [
      "{'text': 'Okay, I can do that. First, I need to identify the first 14 odd '\n",
      "         'prime numbers. A prime number is a number greater than 1 that has '\n",
      "         'only two factors: 1 and itself. Odd prime numbers are prime numbers '\n",
      "         'that are not divisible by 2. The first few prime numbers are 2, 3, '\n",
      "         \"5, 7, 11, and so on. Since I need the odd ones, I'll start from 3. \"\n",
      "         'After identifying the first 14 odd prime numbers, I will calculate '\n",
      "         'their sum.\\n'\n",
      "         '\\n'}\n",
      "-----\n",
      "{'executable_code': {'code': 'primes = [3, 5, 7, 11, 13, 17, 19, 23, 29, 31, '\n",
      "                             '37, 41, 43, 47]\\n'\n",
      "                             'sum_of_primes = sum(primes)\\n'\n",
      "                             \"print(f'{primes=}')\\n\"\n",
      "                             \"print(f'{sum_of_primes=}')\\n\",\n",
      "                     'language': 'PYTHON'}}\n",
      "-----\n",
      "{'code_execution_result': {'outcome': 'OUTCOME_OK',\n",
      "                           'output': 'primes=[3, 5, 7, 11, 13, 17, 19, 23, 29, '\n",
      "                                     '31, 37, 41, 43, 47]\\n'\n",
      "                                     'sum_of_primes=326\\n'}}\n",
      "-----\n",
      "{'text': 'The first 14 odd prime numbers are 3, 5, 7, 11, 13, 17, 19, 23, 29, '\n",
      "         '31, 37, 41, 43, and 47. Their sum is 326.\\n'}\n",
      "-----\n"
     ]
    }
   ],
   "source": [
    "from pprint import pprint\n",
    "\n",
    "config = types.GenerateContentConfig(\n",
    "    tools=[types.Tool(code_execution=types.ToolCodeExecution())],\n",
    ")\n",
    "\n",
    "code_exec_prompt = \"\"\"\n",
    "Generate the first 14 odd prime numbers, then calculate their sum.\n",
    "\"\"\"\n",
    "\n",
    "response = client.models.generate_content(\n",
    "    model='gemini-2.0-flash',\n",
    "    config=config,\n",
    "    contents=code_exec_prompt)\n",
    "\n",
    "for part in response.candidates[0].content.parts:\n",
    "  pprint(part.to_json_dict())\n",
    "  print(\"-----\")"
   ]
  },
  {
   "cell_type": "markdown",
   "id": "821e0d2c",
   "metadata": {
    "id": "ZspT1GSkjG6d",
    "papermill": {
     "duration": 0.014687,
     "end_time": "2025-04-01T17:59:29.725937",
     "exception": false,
     "start_time": "2025-04-01T17:59:29.711250",
     "status": "completed"
    },
    "tags": []
   },
   "source": [
    "This response contains multiple parts, including an opening and closing text part that represent regular responses, an `executable_code` part that represents generated code and a `code_execution_result` part that represents the results from running the generated code.\n",
    "\n",
    "You can explore them individually."
   ]
  },
  {
   "cell_type": "code",
   "execution_count": 31,
   "id": "fa7f0f87",
   "metadata": {
    "execution": {
     "iopub.execute_input": "2025-04-01T17:59:29.757943Z",
     "iopub.status.busy": "2025-04-01T17:59:29.757243Z",
     "iopub.status.idle": "2025-04-01T17:59:29.771407Z",
     "shell.execute_reply": "2025-04-01T17:59:29.770265Z"
    },
    "papermill": {
     "duration": 0.032908,
     "end_time": "2025-04-01T17:59:29.773803",
     "exception": false,
     "start_time": "2025-04-01T17:59:29.740895",
     "status": "completed"
    },
    "tags": []
   },
   "outputs": [
    {
     "data": {
      "text/markdown": [
       "Okay, I can do that. First, I need to identify the first 14 odd prime numbers. A prime number is a number greater than 1 that has only two factors: 1 and itself. Odd prime numbers are prime numbers that are not divisible by 2. The first few prime numbers are 2, 3, 5, 7, 11, and so on. Since I need the odd ones, I'll start from 3. After identifying the first 14 odd prime numbers, I will calculate their sum.\n",
       "\n"
      ],
      "text/plain": [
       "<IPython.core.display.Markdown object>"
      ]
     },
     "metadata": {},
     "output_type": "display_data"
    },
    {
     "data": {
      "text/markdown": [
       "```python\n",
       "primes = [3, 5, 7, 11, 13, 17, 19, 23, 29, 31, 37, 41, 43, 47]\n",
       "sum_of_primes = sum(primes)\n",
       "print(f'{primes=}')\n",
       "print(f'{sum_of_primes=}')\n",
       "\n",
       "```"
      ],
      "text/plain": [
       "<IPython.core.display.Markdown object>"
      ]
     },
     "metadata": {},
     "output_type": "display_data"
    },
    {
     "data": {
      "text/markdown": [
       "```\n",
       "primes=[3, 5, 7, 11, 13, 17, 19, 23, 29, 31, 37, 41, 43, 47]\n",
       "sum_of_primes=326\n",
       "\n",
       "```"
      ],
      "text/plain": [
       "<IPython.core.display.Markdown object>"
      ]
     },
     "metadata": {},
     "output_type": "display_data"
    },
    {
     "data": {
      "text/markdown": [
       "The first 14 odd prime numbers are 3, 5, 7, 11, 13, 17, 19, 23, 29, 31, 37, 41, 43, and 47. Their sum is 326.\n"
      ],
      "text/plain": [
       "<IPython.core.display.Markdown object>"
      ]
     },
     "metadata": {},
     "output_type": "display_data"
    }
   ],
   "source": [
    "for part in response.candidates[0].content.parts:\n",
    "    if part.text:\n",
    "        display(Markdown(part.text))\n",
    "    elif part.executable_code:\n",
    "        display(Markdown(f'```python\\n{part.executable_code.code}\\n```'))\n",
    "    elif part.code_execution_result:\n",
    "        if part.code_execution_result.outcome != 'OUTCOME_OK':\n",
    "            display(Markdown(f'## Status {part.code_execution_result.outcome}'))\n",
    "\n",
    "        display(Markdown(f'```\\n{part.code_execution_result.output}\\n```'))"
   ]
  },
  {
   "cell_type": "markdown",
   "id": "dbfea5e0",
   "metadata": {
    "id": "1gUX8QzCj4d5",
    "papermill": {
     "duration": 0.015681,
     "end_time": "2025-04-01T17:59:29.805291",
     "exception": false,
     "start_time": "2025-04-01T17:59:29.789610",
     "status": "completed"
    },
    "tags": []
   },
   "source": [
    "### Explaining code\n",
    "\n",
    "The Gemini family of models can explain code to you too. In this example, you pass a [bash script](https://github.com/magicmonty/bash-git-prompt) and ask some questions.\n",
    "\n",
    "<table align=left>\n",
    "  <td>\n",
    "    <a target=\"_blank\" href=\"https://aistudio.google.com/prompts/1N7LGzWzCYieyOf_7bAG4plrmkpDNmUyb\"><img src=\"https://ai.google.dev/site-assets/images/marketing/home/icon-ais.png\" style=\"height: 24px\" height=24/> Open in AI Studio</a>\n",
    "  </td>\n",
    "</table>"
   ]
  },
  {
   "cell_type": "code",
   "execution_count": 32,
   "id": "fd670f57",
   "metadata": {
    "execution": {
     "iopub.execute_input": "2025-04-01T17:59:29.838300Z",
     "iopub.status.busy": "2025-04-01T17:59:29.837952Z",
     "iopub.status.idle": "2025-04-01T17:59:32.697017Z",
     "shell.execute_reply": "2025-04-01T17:59:32.695842Z"
    },
    "id": "7_jPMMoxkIEb",
    "papermill": {
     "duration": 2.878798,
     "end_time": "2025-04-01T17:59:32.699596",
     "exception": false,
     "start_time": "2025-04-01T17:59:29.820798",
     "status": "completed"
    },
    "tags": []
   },
   "outputs": [
    {
     "data": {
      "text/markdown": [
       "This file is a **Bash/Zsh script** that enhances your terminal prompt with information about the Git repository you're currently in.  It's commonly known as `bash-git-prompt` (or a similar name), though that's not explicitly stated in the code itself.\n",
       "\n",
       "Here's a breakdown:\n",
       "\n",
       "*   **What it does:** It modifies your command-line prompt to display information like the current branch, the status of your working directory (e.g., staged changes, uncommitted changes, ahead/behind remote), and other Git-related details. It uses colors to make the information more readable and to indicate different states. It may also show information about virtual environments.\n",
       "*   **Why you'd use it:** If you work with Git frequently, this script can greatly improve your workflow.  Instead of constantly typing `git status`, you can see the relevant information directly in your prompt.  This allows you to quickly assess the state of your repository and avoid accidental commits or other issues. It helps you stay informed about your Git repository without having to run separate Git commands.\n",
       "*   **How it works (very simplified):** The script defines functions to:\n",
       "    *   Detect if you're in a Git repository.\n",
       "    *   Gather information about the repository's status (branch, changes, etc.).\n",
       "    *   Format this information into a string, including colors.\n",
       "    *   Set the `PS1` environment variable (which controls your prompt) to include this string. It uses `PROMPT_COMMAND` to run this script every time the shell is ready for new input.\n",
       "*   **Installation** Typically, you would source this file from your `.bashrc` (or `.zshrc` for Zsh).  This means adding a line like `source /path/to/this/file.sh` to your shell configuration file.  After restarting your terminal, you should see the new Git-enhanced prompt.\n",
       "\n",
       "In essence, this script aims to provide a more informative and convenient command-line experience for Git users.\n"
      ],
      "text/plain": [
       "<IPython.core.display.Markdown object>"
      ]
     },
     "execution_count": 32,
     "metadata": {},
     "output_type": "execute_result"
    }
   ],
   "source": [
    "file_contents = !curl https://raw.githubusercontent.com/magicmonty/bash-git-prompt/refs/heads/master/gitprompt.sh\n",
    "\n",
    "explain_prompt = f\"\"\"\n",
    "Please explain what this file does at a very high level. What is it, and why would I use it?\n",
    "\n",
    "```\n",
    "{file_contents}\n",
    "```\n",
    "\"\"\"\n",
    "\n",
    "response = client.models.generate_content(\n",
    "    model='gemini-2.0-flash',\n",
    "    contents=explain_prompt)\n",
    "\n",
    "Markdown(response.text)"
   ]
  },
  {
   "cell_type": "markdown",
   "id": "6bd4d75b",
   "metadata": {
    "id": "2a8266d97ce5",
    "papermill": {
     "duration": 0.015977,
     "end_time": "2025-04-01T17:59:32.731778",
     "exception": false,
     "start_time": "2025-04-01T17:59:32.715801",
     "status": "completed"
    },
    "tags": []
   },
   "source": [
    "## Learn more\n",
    "\n",
    "To learn more about prompting in depth:\n",
    "\n",
    "* Check out the whitepaper issued with today's content,\n",
    "* Try out the apps listed at the top of this notebook ([TextFX](https://textfx.withgoogle.com/), [SQL Talk](https://sql-talk-r5gdynozbq-uc.a.run.app/) and [NotebookLM](https://notebooklm.google/)),\n",
    "* Read the [Introduction to Prompting](https://ai.google.dev/gemini-api/docs/prompting-intro) from the Gemini API docs,\n",
    "* Explore the Gemini API's [prompt gallery](https://ai.google.dev/gemini-api/prompts) and try them out in AI Studio,\n",
    "* Check out the Gemini API cookbook for [inspirational examples](https://github.com/google-gemini/cookbook/blob/main/examples/) and [educational quickstarts](https://github.com/google-gemini/cookbook/blob/main/quickstarts/).\n",
    "\n",
    "Be sure to check out the codelabs on day 3 too, where you will explore some more advanced prompting with code execution.\n",
    "\n",
    "And please share anything exciting you have tried in the Discord!\n",
    "\n",
    "*- [Mark McD](https://linktr.ee/markmcd)*"
   ]
  }
 ],
 "metadata": {
  "colab": {
   "name": "day-1-prompting.ipynb",
   "toc_visible": true
  },
  "kaggle": {
   "accelerator": "none",
   "dataSources": [],
   "dockerImageVersionId": 30786,
   "isGpuEnabled": false,
   "isInternetEnabled": true,
   "language": "python",
   "sourceType": "notebook"
  },
  "kernelspec": {
   "display_name": "Python 3",
   "language": "python",
   "name": "python3"
  },
  "language_info": {
   "codemirror_mode": {
    "name": "ipython",
    "version": 3
   },
   "file_extension": ".py",
   "mimetype": "text/x-python",
   "name": "python",
   "nbconvert_exporter": "python",
   "pygments_lexer": "ipython3",
   "version": "3.10.14"
  },
  "papermill": {
   "default_parameters": {},
   "duration": 152.266038,
   "end_time": "2025-04-01T17:59:33.470721",
   "environment_variables": {},
   "exception": null,
   "input_path": "__notebook__.ipynb",
   "output_path": "__notebook__.ipynb",
   "parameters": {},
   "start_time": "2025-04-01T17:57:01.204683",
   "version": "2.6.0"
  }
 },
 "nbformat": 4,
 "nbformat_minor": 5
}
